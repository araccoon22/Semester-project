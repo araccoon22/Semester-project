{
 "cells": [
  {
   "cell_type": "markdown",
   "metadata": {},
   "source": [
    "## Mixtures of Logit Swissmetro 2 - 4 random coefficients\n"
   ]
  },
  {
   "cell_type": "markdown",
   "metadata": {},
   "source": [
    "In the swissmetro 2 case, we have this time **4 random components** : time, cost, and error in the ASCs for train and car.\n",
    "\n",
    "Options for the few_draws.toml:\n",
    "- Second derivative set to 0\n",
    "- Number of draws: 10000"
   ]
  },
  {
   "cell_type": "code",
   "execution_count": null,
   "metadata": {},
   "outputs": [],
   "source": [
    "import pandas as pd\n",
    "import numpy as np\n",
    "import pandas as pd\n",
    "import biogeme.database as db\n",
    "import biogeme.biogeme as bio\n",
    "from biogeme import models\n",
    "from biogeme.expressions import Beta, Variable, bioDraws, MonteCarlo, log, Power, exp, Derive, RandomVariable, PanelLikelihoodTrajectory\n",
    "from biogeme.tools import TemporaryFile"
   ]
  },
  {
   "cell_type": "markdown",
   "metadata": {},
   "source": [
    "Preparing the data"
   ]
  },
  {
   "cell_type": "code",
   "execution_count": null,
   "metadata": {},
   "outputs": [],
   "source": [
    "url = \"http://transp-or.epfl.ch/data/swissmetro.dat\"\n",
    "\n",
    "# Read the data into a DataFrame\n",
    "df = pd.read_csv(url, sep='\\t')\n",
    "database_swissmetro = db.Database('swissmetro', df)\n",
    "\n",
    "#Definition of the variables:\n",
    "\n",
    "GROUP = Variable('GROUP')\n",
    "SURVEY = Variable('SURVEY')\n",
    "SP = Variable('SP')\n",
    "ID = Variable('ID')\n",
    "PURPOSE = Variable('PURPOSE')\n",
    "FIRST = Variable('FIRST')\n",
    "TICKET = Variable('TICKET')\n",
    "WHO = Variable('WHO')\n",
    "LUGGAGE = Variable('LUGGAGE')\n",
    "AGE = Variable('AGE')\n",
    "MALE = Variable('MALE')\n",
    "INCOME = Variable('INCOME')\n",
    "GA = Variable('GA')\n",
    "ORIGIN = Variable('ORIGIN')\n",
    "DEST = Variable('DEST')\n",
    "TRAIN_AV = Variable('TRAIN_AV')\n",
    "CAR_AV = Variable('CAR_AV')\n",
    "SM_AV = Variable('SM_AV')\n",
    "TRAIN_TT = Variable('TRAIN_TT')\n",
    "TRAIN_CO = Variable('TRAIN_CO')\n",
    "TRAIN_HE = Variable('TRAIN_HE')\n",
    "SM_TT = Variable('SM_TT')\n",
    "SM_CO = Variable('SM_CO')\n",
    "SM_HE = Variable('SM_HE')\n",
    "SM_SEATS = Variable('SM_SEATS')\n",
    "CAR_TT = Variable('CAR_TT')\n",
    "CAR_CO = Variable('CAR_CO')\n",
    "CHOICE = Variable('CHOICE')\n",
    "\n",
    "#We estimate the parameters of the model using all observations in the data set associated with work trips. \n",
    "#Observations such that the dependent variable CHOICE is 0 are also removed.\n",
    "\n",
    "exclude = ((PURPOSE != 1) * (PURPOSE != 3) + (CHOICE == 0)) > 0\n",
    "database_swissmetro.remove(exclude)\n",
    "\n",
    "#Definition of new variables:\n",
    "SM_COST = database_swissmetro.DefineVariable('SM_COST', SM_CO * (GA == 0))\n",
    "TRAIN_COST = database_swissmetro.DefineVariable('TRAIN_COST', TRAIN_CO * (GA == 0))\n",
    "CAR_AV_SP = database_swissmetro.DefineVariable('CAR_AV_SP', CAR_AV * (SP != 0))\n",
    "TRAIN_AV_SP = database_swissmetro.DefineVariable('TRAIN_AV_SP', TRAIN_AV * (SP != 0))\n",
    "TRAIN_TT_SCALED = database_swissmetro.DefineVariable('TRAIN_TT_SCALED', TRAIN_TT / 100)\n",
    "TRAIN_COST_SCALED = database_swissmetro.DefineVariable('TRAIN_COST_SCALED', TRAIN_COST / 100)\n",
    "SM_TT_SCALED = database_swissmetro.DefineVariable('SM_TT_SCALED', SM_TT / 100)\n",
    "SM_COST_SCALED = database_swissmetro.DefineVariable('SM_COST_SCALED', SM_COST / 100)\n",
    "CAR_TT_SCALED = database_swissmetro.DefineVariable('CAR_TT_SCALED', CAR_TT / 100)\n",
    "CAR_CO_SCALED = database_swissmetro.DefineVariable('CAR_CO_SCALED', CAR_CO / 100)\n",
    "\n",
    "database_swissmetro.panel('ID') \n",
    "\n"
   ]
  },
  {
   "cell_type": "markdown",
   "metadata": {},
   "source": [
    "Defining Model Parameters"
   ]
  },
  {
   "cell_type": "code",
   "execution_count": null,
   "metadata": {},
   "outputs": [],
   "source": [
    "ASC_CAR = Beta('ASC_CAR', 0, None, None, 0)\n",
    "ASC_TRAIN = Beta('ASC_TRAIN', 0, None, None, 0)\n",
    "ASC_SM = Beta('ASC_SM', 0, None, None, 1) #Setting it to 0, no estimation\n",
    "\n",
    "\n"
   ]
  },
  {
   "cell_type": "markdown",
   "metadata": {},
   "source": [
    "Defining Random parameter, with Halton Draw, for Monte-Carlo Simulation"
   ]
  },
  {
   "cell_type": "code",
   "execution_count": null,
   "metadata": {},
   "outputs": [],
   "source": [
    "B_TIME = Beta('B_TIME', 0, None, None, 0)\n",
    "B_TIME_S = Beta('B_TIME_S', 1, None, None, 0) \n",
    "B_TIME_RND = B_TIME + B_TIME_S * bioDraws('B_TIME_RND', 'NORMAL')\n",
    "\n",
    "B_COST = Beta('B_COST', 0, None, None, 0)\n",
    "B_COST_S = Beta('B_COST_S', 1, None, None, 0)\n",
    "B_COST_RND = B_COST + B_COST_S * bioDraws('B_COST_RND', 'NORMAL')\n",
    "\n",
    "\n",
    "SIGMA_CAR = Beta('SIGMA_CAR', 1, None, None, 0)\n",
    "SIGMA_SM = Beta('SIGMA_SM', 1, None, None, 0)\n",
    "\n",
    "\n",
    "SIGMA_CAR_RND = SIGMA_CAR * bioDraws('SIGMA_CAR_RND', 'NORMAL')\n",
    "SIGMA_SM_RND = SIGMA_SM * bioDraws('SIGMA_SM_RND', 'NORMAL')\n",
    "\n"
   ]
  },
  {
   "cell_type": "markdown",
   "metadata": {},
   "source": [
    "Defining the Model"
   ]
  },
  {
   "cell_type": "code",
   "execution_count": null,
   "metadata": {},
   "outputs": [],
   "source": [
    "V1 = ASC_TRAIN + B_TIME_RND * TRAIN_TT_SCALED + B_COST_RND * TRAIN_COST_SCALED + SIGMA_CAR_RND\n",
    "V2 = ASC_SM + B_TIME_RND * SM_TT_SCALED + B_COST_RND * SM_COST_SCALED + SIGMA_SM_RND\n",
    "V3 = ASC_CAR + B_TIME_RND * CAR_TT_SCALED + B_COST_RND * CAR_CO_SCALED\n",
    "\n",
    "V = {1: V1, 2: V2, 3: V3}\n",
    "\n",
    "av = {1: TRAIN_AV_SP, 2: SM_AV, 3: CAR_AV_SP}"
   ]
  },
  {
   "cell_type": "markdown",
   "metadata": {},
   "source": [
    "Estimating the Model"
   ]
  },
  {
   "cell_type": "code",
   "execution_count": null,
   "metadata": {},
   "outputs": [],
   "source": [
    "prob = models.logit(V, av, CHOICE)\n",
    "\n",
    "condprodIndiv = PanelLikelihoodTrajectory(prob) #will use panel data in this case\n",
    "\n",
    "logprob = log(MonteCarlo(condprodIndiv))\n",
    "\n",
    "\n",
    "USER_NOTES = (\n",
    "    'Example of a mixture of logit models with three alternatives, 4 random components, '\n",
    "    'approximated using Monte-Carlo integration. '\n",
    ")\n",
    "\n",
    "the_biogeme = bio.BIOGEME(\n",
    "    database_swissmetro, logprob, userNotes=USER_NOTES, parameter_file='few_draws.toml'\n",
    ")\n",
    "the_biogeme.modelName = 'swissmetro_Halton_Mixture_4_random_coefficients'\n",
    "\n",
    "results = the_biogeme.estimate()\n"
   ]
  },
  {
   "cell_type": "code",
   "execution_count": null,
   "metadata": {},
   "outputs": [],
   "source": [
    "# Retrieve the general statistics from the results\n",
    "general_stats = results.getGeneralStatistics()\n",
    "print(results.printGeneralStatistics())"
   ]
  },
  {
   "cell_type": "code",
   "execution_count": null,
   "metadata": {},
   "outputs": [],
   "source": [
    "pandas_results = results.getEstimatedParameters()\n",
    "pandas_results"
   ]
  }
 ],
 "metadata": {
  "kernelspec": {
   "display_name": "biogeme",
   "language": "python",
   "name": "python3"
  },
  "language_info": {
   "codemirror_mode": {
    "name": "ipython",
    "version": 3
   },
   "file_extension": ".py",
   "mimetype": "text/x-python",
   "name": "python",
   "nbconvert_exporter": "python",
   "pygments_lexer": "ipython3",
   "version": "3.8.18"
  }
 },
 "nbformat": 4,
 "nbformat_minor": 2
}
