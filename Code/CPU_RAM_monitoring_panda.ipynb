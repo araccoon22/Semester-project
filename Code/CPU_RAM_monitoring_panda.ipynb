{
 "cells": [
  {
   "cell_type": "code",
   "execution_count": 1,
   "metadata": {},
   "outputs": [],
   "source": [
    "import psutil\n",
    "import time\n",
    "import pandas as pd"
   ]
  },
  {
   "cell_type": "code",
   "execution_count": 3,
   "metadata": {},
   "outputs": [],
   "source": [
    "def monitor_system(duration_minute):\n",
    "    duration = duration_minute * 60  # transforming the argument so it's in minutes instead of seconds\n",
    "    data = {'Time': [], 'CPU Usage (%)': [], 'RAM Usage (%)': []}\n",
    "    start_time = time.time()\n",
    "\n",
    "    while time.time() - start_time < duration:\n",
    "        elapsed_time = time.time() - start_time\n",
    "        cpu_percent = psutil.cpu_percent(interval=None)\n",
    "        ram_info = psutil.virtual_memory()\n",
    "\n",
    "        data['Time'].append(elapsed_time)\n",
    "        data['CPU Usage (%)'].append(cpu_percent)\n",
    "        data['RAM Usage (%)'].append(ram_info.percent)\n",
    "\n",
    "        time.sleep(20)  # measure the CPU + RAM every 20 seconds\n",
    "\n",
    "    df = pd.DataFrame(data)\n",
    "    return df\n"
   ]
  },
  {
   "cell_type": "code",
   "execution_count": 5,
   "metadata": {},
   "outputs": [
    {
     "name": "stdout",
     "output_type": "stream",
     "text": [
      "        Time  CPU Usage (%)  RAM Usage (%)\n",
      "0   0.000000            2.3           64.4\n",
      "1   5.011776            2.3           64.4\n",
      "2  10.012314            2.8           64.1\n"
     ]
    }
   ],
   "source": [
    "if __name__ == \"__main__\":\n",
    "    duration = 5 #measure for 5 minutes\n",
    "    monitoring_data = monitor_system(duration)\n",
    "\n",
    "    # Print the DataFrame\n",
    "    print(monitoring_data)\n",
    "\n",
    "    # Save the DataFrame to an Excel file\n",
    "    csv_file_path = 'cpu_ram_usage.csv'\n",
    "    monitoring_data.to_csv(csv_file_path, index=False)"
   ]
  }
 ],
 "metadata": {
  "kernelspec": {
   "display_name": "biogeme",
   "language": "python",
   "name": "python3"
  },
  "language_info": {
   "codemirror_mode": {
    "name": "ipython",
    "version": 3
   },
   "file_extension": ".py",
   "mimetype": "text/x-python",
   "name": "python",
   "nbconvert_exporter": "python",
   "pygments_lexer": "ipython3",
   "version": "3.8.18"
  }
 },
 "nbformat": 4,
 "nbformat_minor": 2
}
