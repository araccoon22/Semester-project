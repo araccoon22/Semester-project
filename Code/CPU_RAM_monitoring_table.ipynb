{
 "cells": [
  {
   "cell_type": "code",
   "execution_count": 1,
   "metadata": {},
   "outputs": [],
   "source": [
    "import psutil\n",
    "import time\n",
    "import pandas as pd"
   ]
  },
  {
   "cell_type": "code",
   "execution_count": 2,
   "metadata": {},
   "outputs": [],
   "source": [
    "def monitor_system(duration_minute):\n",
    "    duration = duration_minute * 60  # transforming the argument so it's in minutes instead of seconds\n",
    "    data = {'Time': [], 'CPU Usage (%)': [], 'RAM Usage (%)': []}\n",
    "    start_time = time.time()\n",
    "\n",
    "    while time.time() - start_time < duration:\n",
    "        elapsed_time = time.time() - start_time\n",
    "        cpu_percent = psutil.cpu_percent(interval=None)\n",
    "        ram_info = psutil.virtual_memory()\n",
    "\n",
    "        data['Time'].append(elapsed_time)\n",
    "        data['CPU Usage (%)'].append(cpu_percent)\n",
    "        data['RAM Usage (%)'].append(ram_info.percent)\n",
    "\n",
    "        time.sleep(20)  # measure the CPU + RAM every 20 seconds\n",
    "\n",
    "    df = pd.DataFrame(data)\n",
    "    return df\n"
   ]
  },
  {
   "cell_type": "code",
   "execution_count": 3,
   "metadata": {},
   "outputs": [
    {
     "name": "stdout",
     "output_type": "stream",
     "text": [
      "          Time  CPU Usage (%)  RAM Usage (%)\n",
      "0     0.000000            6.5           54.5\n",
      "1    20.007874           10.0           57.6\n",
      "2    40.008581           17.2           66.8\n",
      "3    60.017027           18.1           66.8\n",
      "4    80.017425           19.1           67.5\n",
      "5   100.019186           19.2           67.7\n",
      "6   120.022976           19.8           67.3\n",
      "7   140.027627           17.8           67.7\n",
      "8   160.030441           19.4           67.6\n",
      "9   180.038188           19.5           67.8\n",
      "10  200.046912           19.4           67.3\n",
      "11  220.060167           23.4           68.6\n"
     ]
    }
   ],
   "source": [
    "if __name__ == \"__main__\":\n",
    "    duration = 50 #measure for 50 minutes\n",
    "    monitoring_data = monitor_system(duration)\n",
    "\n",
    "    # Print the DataFrame\n",
    "    print(monitoring_data)\n",
    "\n",
    "    # Save the DataFrame to an Excel file\n",
    "    csv_file_path = 'cpu_ram_usage.csv'\n",
    "    monitoring_data.to_csv(csv_file_path, index=False)"
   ]
  }
 ],
 "metadata": {
  "kernelspec": {
   "display_name": "biogeme",
   "language": "python",
   "name": "python3"
  },
  "language_info": {
   "codemirror_mode": {
    "name": "ipython",
    "version": 3
   },
   "file_extension": ".py",
   "mimetype": "text/x-python",
   "name": "python",
   "nbconvert_exporter": "python",
   "pygments_lexer": "ipython3",
   "version": "3.8.18"
  }
 },
 "nbformat": 4,
 "nbformat_minor": 2
}
