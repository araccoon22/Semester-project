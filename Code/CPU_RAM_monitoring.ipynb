{
 "cells": [
  {
   "cell_type": "code",
   "execution_count": 3,
   "metadata": {},
   "outputs": [],
   "source": [
    "import psutil\n",
    "import time\n",
    "import pandas as pd"
   ]
  },
  {
   "cell_type": "code",
   "execution_count": 4,
   "metadata": {},
   "outputs": [
    {
     "name": "stdout",
     "output_type": "stream",
     "text": [
      "          Time  CPU Usage (%)  RAM Usage (%)\n",
      "0     0.000000            6.7           55.8\n",
      "1    10.005929            8.0           55.7\n",
      "2    20.007836           12.4           58.9\n",
      "3    30.020892           16.6           63.1\n",
      "4    40.021387           17.9           62.5\n",
      "5    50.021913           18.4           63.9\n",
      "6    60.026642           16.7           64.6\n",
      "7    70.031603           16.9           65.3\n",
      "8    80.038890           16.5           64.9\n",
      "9    90.045420           15.7           64.1\n",
      "10  100.055436           31.1           69.5\n",
      "11  110.069659           30.1           67.9\n",
      "12  120.073177           24.7           67.6\n",
      "13  130.075628           34.3           67.2\n",
      "14  140.086448           33.6           67.4\n",
      "15  150.093804           33.5           68.2\n",
      "16  160.100022           34.6           67.7\n",
      "17  170.107813           33.0           67.9\n",
      "18  180.111735           22.9           66.1\n",
      "19  190.113026           20.2           65.5\n",
      "20  200.120503           19.3           65.6\n",
      "21  210.124571            5.7           54.6\n",
      "22  220.126987            0.7           53.9\n",
      "23  230.138831            0.6           53.8\n",
      "24  240.147757            2.3           55.3\n",
      "25  250.161236            0.9           54.0\n",
      "26  260.166178            0.8           53.7\n",
      "27  270.179746            0.3           53.7\n",
      "28  280.183419            0.4           53.6\n",
      "29  290.193628            0.5           53.6\n"
     ]
    }
   ],
   "source": [
    "def monitor_system(duration_minute):\n",
    "    duration = duration_minute*60 #transforming the argument so it's in minutes instead of seconds\n",
    "    data = {'Time': [], 'CPU Usage (%)': [], 'RAM Usage (%)': []}\n",
    "    start_time = time.time()\n",
    "\n",
    "    while time.time() - start_time < duration:\n",
    "        elapsed_time = time.time() - start_time\n",
    "        cpu_percent = psutil.cpu_percent(interval=None)\n",
    "        ram_info = psutil.virtual_memory()\n",
    "\n",
    "        data['Time'].append(elapsed_time)\n",
    "        data['CPU Usage (%)'].append(cpu_percent)\n",
    "        data['RAM Usage (%)'].append(ram_info.percent)\n",
    "\n",
    "        time.sleep(10) #mesure the CPU + RAM every minute\n",
    "\n",
    "    df = pd.DataFrame(data)\n",
    "    return df\n",
    "\n",
    "if __name__ == \"__main__\":\n",
    "    duration = 5\n",
    "    monitoring_data = monitor_system(duration)\n",
    "\n",
    "    # Print the DataFrame\n",
    "    print(monitoring_data)\n",
    "\n",
    "    # Save the DataFrame to a CSV file\n",
    "    monitoring_data.to_csv('cpu_ram_usage.csv', index=False)\n"
   ]
  }
 ],
 "metadata": {
  "kernelspec": {
   "display_name": "biogeme",
   "language": "python",
   "name": "python3"
  },
  "language_info": {
   "codemirror_mode": {
    "name": "ipython",
    "version": 3
   },
   "file_extension": ".py",
   "mimetype": "text/x-python",
   "name": "python",
   "nbconvert_exporter": "python",
   "pygments_lexer": "ipython3",
   "version": "3.8.18"
  }
 },
 "nbformat": 4,
 "nbformat_minor": 2
}
