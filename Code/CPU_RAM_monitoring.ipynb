{
 "cells": [
  {
   "cell_type": "code",
   "execution_count": 14,
   "metadata": {},
   "outputs": [],
   "source": [
    "import psutil\n",
    "import time\n",
    "import pandas as pd"
   ]
  },
  {
   "cell_type": "code",
   "execution_count": 11,
   "metadata": {},
   "outputs": [],
   "source": [
    "def monitor_system(duration_minute):\n",
    "    duration = duration_minute*60 #transforming the argument so it's in minutes instead of seconds\n",
    "    data = {'Time': [], 'CPU Usage (%)': [], 'RAM Usage (%)': []}\n",
    "    start_time = time.time()\n",
    "\n",
    "    while time.time() - start_time < duration:\n",
    "        elapsed_time = time.time() - start_time\n",
    "        cpu_percent = psutil.cpu_percent(interval=None)\n",
    "        ram_info = psutil.virtual_memory()\n",
    "\n",
    "        data['Time'].append(elapsed_time)\n",
    "        data['CPU Usage (%)'].append(cpu_percent)\n",
    "        data['RAM Usage (%)'].append(ram_info.percent)\n",
    "\n",
    "        time.sleep(60) #mesure the CPU + RAM every minute\n",
    "\n",
    "    df = pd.DataFrame(data)\n",
    "    return df\n",
    "\n",
    "if __name__ == \"__main__\":\n",
    "    duration = 1\n",
    "    monitoring_data = monitor_system(duration)\n",
    "\n",
    "    # Print the DataFrame\n",
    "    print(monitoring_data)\n",
    "\n",
    "    # Save the DataFrame to a CSV file\n",
    "    monitoring_data.to_csv('cpu_ram_usage.csv', index=False)\n"
   ]
  }
 ],
 "metadata": {
  "kernelspec": {
   "display_name": "biogeme",
   "language": "python",
   "name": "python3"
  },
  "language_info": {
   "codemirror_mode": {
    "name": "ipython",
    "version": 3
   },
   "file_extension": ".py",
   "mimetype": "text/x-python",
   "name": "python",
   "nbconvert_exporter": "python",
   "pygments_lexer": "ipython3",
   "version": "3.8.18"
  }
 },
 "nbformat": 4,
 "nbformat_minor": 2
}
