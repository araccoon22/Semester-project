{
 "cells": [
  {
   "cell_type": "code",
   "execution_count": 1,
   "metadata": {},
   "outputs": [],
   "source": [
    "import psutil\n",
    "import time\n",
    "import pandas as pd"
   ]
  },
  {
   "cell_type": "code",
   "execution_count": 2,
   "metadata": {},
   "outputs": [],
   "source": [
    "def monitor_system(duration_minute, gap_second):\n",
    "    duration = duration_minute * 60  # transforming the argument so it's in minutes instead of seconds\n",
    "    data = {'Time': [], 'CPU Usage (%)': [], 'RAM Usage (%)': []}\n",
    "    start_time = time.time()\n",
    "\n",
    "    while time.time() - start_time < duration:\n",
    "        elapsed_time = time.time() - start_time\n",
    "        cpu_percent = psutil.cpu_percent(interval=None)\n",
    "        ram_info = psutil.virtual_memory()\n",
    "\n",
    "        data['Time'].append(elapsed_time)\n",
    "        data['CPU Usage (%)'].append(cpu_percent)\n",
    "        data['RAM Usage (%)'].append(ram_info.percent)\n",
    "\n",
    "        time.sleep(gap_second)  # measure the CPU + RAM every 5 seconds\n",
    "\n",
    "    df = pd.DataFrame(data)\n",
    "    return df\n"
   ]
  },
  {
   "cell_type": "code",
   "execution_count": 3,
   "metadata": {},
   "outputs": [
    {
     "name": "stdout",
     "output_type": "stream",
     "text": [
      "        Time  CPU Usage (%)  RAM Usage (%)\n",
      "0   0.000000            1.8           67.5\n",
      "1  10.011565            1.7           67.2\n",
      "2  20.019096            0.5           65.7\n",
      "3  30.032450            1.2           65.8\n",
      "4  40.040506            0.9           65.2\n",
      "5  50.046014            0.4           65.4\n"
     ]
    }
   ],
   "source": [
    "if __name__ == \"__main__\":\n",
    "    duration = 1 #measure for 15 minutes\n",
    "    gap_second = 10 #measure every 5 seconds\n",
    "    monitoring_data = monitor_system(duration, gap_second)\n",
    "\n",
    "    # Print the DataFrame\n",
    "    print(monitoring_data)\n",
    "\n",
    "    # Save the DataFrame to an Excel file\n",
    "    csv_file_path = 'cpu_ram_usage_swissmetro_2_apollo.csv'\n",
    "    monitoring_data.to_csv(csv_file_path, index=False)"
   ]
  }
 ],
 "metadata": {
  "kernelspec": {
   "display_name": "biogeme",
   "language": "python",
   "name": "python3"
  },
  "language_info": {
   "codemirror_mode": {
    "name": "ipython",
    "version": 3
   },
   "file_extension": ".py",
   "mimetype": "text/x-python",
   "name": "python",
   "nbconvert_exporter": "python",
   "pygments_lexer": "ipython3",
   "version": "3.8.18"
  }
 },
 "nbformat": 4,
 "nbformat_minor": 2
}
