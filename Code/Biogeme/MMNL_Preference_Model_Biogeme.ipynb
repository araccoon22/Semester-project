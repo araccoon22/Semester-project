{
 "cells": [
  {
   "cell_type": "code",
   "execution_count": null,
   "metadata": {},
   "outputs": [],
   "source": [
    "import pandas as pd\n",
    "import numpy as np\n",
    "import pandas as pd\n",
    "import biogeme.database as db\n",
    "import biogeme.biogeme as bio\n",
    "from biogeme import models, tools\n",
    "from biogeme.expressions import Beta, Variable, bioDraws, MonteCarlo, log, Power, exp, Derive, RandomVariable\n",
    "import biogeme.distributions as dist\n",
    "import scipy.stats as st"
   ]
  },
  {
   "cell_type": "markdown",
   "metadata": {},
   "source": [
    "Data description"
   ]
  },
  {
   "cell_type": "markdown",
   "metadata": {},
   "source": [
    "The dataset `apollo_swissRouteChoiceData` comes from an actual SP survey of public transport route choice conducted in\n",
    "Switzerland (Axhausen et al., 2008). A set of 388 people were faced with 9 choices each between two public transport routes, both using train (leading to 3'492 observations in the data). The two alternatives are described on the basis of travel time, travel cost, headway (time between subsequent trains/busses) and the number of interchanges. For each individual, the dataset\n",
    "additionally contains information on income, car availability in the household, and whether the\n",
    "journey was made for commuting, shopping, business or leisure.\n",
    "\n",
    "See slide 79 Apollo Documentation for more info on Mixtures"
   ]
  },
  {
   "cell_type": "markdown",
   "metadata": {},
   "source": [
    "Preparing the data"
   ]
  },
  {
   "cell_type": "code",
   "execution_count": null,
   "metadata": {},
   "outputs": [],
   "source": [
    "# Read the CSV file\n",
    "df = pd.read_csv(r\"C:\\Users\\alexi\\Desktop\\GITS\\Semester-project\\Data\\apollo_swissRouteChoiceData.csv\")\n",
    "df"
   ]
  },
  {
   "cell_type": "code",
   "execution_count": null,
   "metadata": {},
   "outputs": [],
   "source": [
    "#fill nAn values with 0 (same as in Apollo)\n",
    "df = df.fillna(0) \n",
    "\n",
    "#creating biogeme database\n",
    "\n",
    "database = db.Database('MMNL_Preference_Model', df)\n",
    "globals().update(database.variables) #transform all columns into variables"
   ]
  },
  {
   "cell_type": "markdown",
   "metadata": {},
   "source": [
    "Defining the model parameters"
   ]
  },
  {
   "cell_type": "code",
   "execution_count": null,
   "metadata": {},
   "outputs": [],
   "source": [
    "mu_log_b_tt = Beta('mu_log_b_tt', -3, None, None, 0)\n",
    "sigma_log_b_tt = Beta('sigma_log_b_tt', -0.01, None, None, 0)\n",
    "mu_log_b_tc = Beta('mu_log_b_tc', -3, None, None, 0)\n",
    "sigma_log_b_tc = Beta('sigma_log_b_tc', -0.01, None, None, 0)\n",
    "mu_log_b_hw = Beta('mu_log_b_hw', -3, None, None, 0)\n",
    "sigma_log_b_hw = Beta('sigma_log_b_hw', -0.01, None, None, 0)\n",
    "mu_log_b_tt = Beta('mu_log_b_tt', -3, None, None, 0)\n",
    "sigma_log_b_ch = Beta('sigma_log_b_ch', -0.01, None, None, 0)\n",
    "\n",
    "#no fixed parameters\n",
    "\n"
   ]
  },
  {
   "cell_type": "code",
   "execution_count": null,
   "metadata": {},
   "outputs": [],
   "source": [
    "help(bioDraws)"
   ]
  },
  {
   "cell_type": "markdown",
   "metadata": {},
   "source": [
    "Generate draws from Random Distribution (Halton Draws)"
   ]
  },
  {
   "cell_type": "code",
   "execution_count": null,
   "metadata": {},
   "outputs": [],
   "source": [
    "b_tt = -np.exp(mu_log_b_tt + sigma_log_b_tt*bioDraws('b_tt', 'NORMAL_HALTON5'))\n",
    "b_tc = -np.exp(mu_log_b_tc + sigma_log_b_tc*bioDraws('b_tc', 'NORMAL_HALTON5'))\n",
    "b_hw = -np.exp(mu_log_b_hw + sigma_log_b_hw*bioDraws('b_hw', 'NORMAL_HALTON5'))\n",
    "b_ch = -np.exp(mu_log_b_ch + sigma_log_b_ch*bioDraws('b_ch', 'NORMAL_HALTON5'))\n",
    "\n"
   ]
  },
  {
   "cell_type": "markdown",
   "metadata": {},
   "source": [
    "Defining the Model"
   ]
  },
  {
   "cell_type": "code",
   "execution_count": null,
   "metadata": {},
   "outputs": [],
   "source": [
    "V_1 = b_tt * tt1 + b_tc * tc1 + b_hw * hw1 + b_ch * ch1\n",
    "V_2 = b_tt * tt2 + b_tc * tc2 + b_hw * hw2 + b_ch * ch2\n",
    "\n",
    "av = {1:av_1, 2:av_2}\n",
    "\n",
    "V = {1: V_1, 2: V_2}"
   ]
  },
  {
   "cell_type": "markdown",
   "metadata": {},
   "source": [
    "Estimating the model"
   ]
  },
  {
   "cell_type": "code",
   "execution_count": null,
   "metadata": {},
   "outputs": [],
   "source": [
    "# Define the model\n",
    "logprob_MMNL = log(MonteCarlo(models.loglogit(V, av, choice)))\n",
    "\n",
    "#call cpu/ram function\n",
    "\n",
    "# Estimate the model\n",
    "biogeme_MMNL = bio.BIOGEME(database, logprob_MMNL)\n",
    "biogeme_MMNL.modelName = 'MMNL_Model'\n",
    "biogeme_MMNL.generateHtml = True  # Disable HTML file generation\n",
    "biogeme_MMNL.generatePickle = False  # Disable PICKLE file generation\n",
    "biogeme_MMNL.save_iterations = False  # Disable ITER file generation\n",
    "results_model_MMNL = biogeme_MMNL.estimate()\n",
    "\n",
    "# Output\n",
    "print(results_model_MMNL.getEstimatedParameters())"
   ]
  },
  {
   "cell_type": "code",
   "execution_count": null,
   "metadata": {},
   "outputs": [],
   "source": [
    "# Retrieve the general statistics from the results\n",
    "general_stats_model_RP = results_model_RP.getGeneralStatistics()\n",
    "print(results_model_RP.printGeneralStatistics())"
   ]
  }
 ],
 "metadata": {
  "kernelspec": {
   "display_name": "biogeme",
   "language": "python",
   "name": "python3"
  },
  "language_info": {
   "codemirror_mode": {
    "name": "ipython",
    "version": 3
   },
   "file_extension": ".py",
   "mimetype": "text/x-python",
   "name": "python",
   "nbconvert_exporter": "python",
   "pygments_lexer": "ipython3",
   "version": "3.8.18"
  }
 },
 "nbformat": 4,
 "nbformat_minor": 2
}
