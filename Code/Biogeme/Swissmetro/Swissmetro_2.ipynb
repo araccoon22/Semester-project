{
 "cells": [
  {
   "cell_type": "markdown",
   "metadata": {},
   "source": [
    "# Mixtures of Logit Swissmetro: 1000 draws\n",
    "\n",
    "Have two randoms coefficients (cost + time) and heterogeneity in the ASCs\n",
    "\n"
   ]
  },
  {
   "cell_type": "markdown",
   "metadata": {},
   "source": [
    "Options for the few_draws.toml:\n",
    "- Second derivative set to 0\n",
    "- Number of draws: 1000 (for now)\n",
    "\n"
   ]
  },
  {
   "cell_type": "code",
   "execution_count": 1,
   "metadata": {},
   "outputs": [],
   "source": [
    "import pandas as pd\n",
    "import numpy as np\n",
    "import pandas as pd\n",
    "import biogeme.database as db\n",
    "import biogeme.biogeme as bio\n",
    "from biogeme import models\n",
    "from biogeme.expressions import Beta, Variable, bioDraws, MonteCarlo, log, Power, exp, Derive, RandomVariable, PanelLikelihoodTrajectory\n",
    "from biogeme.tools import TemporaryFile"
   ]
  },
  {
   "cell_type": "markdown",
   "metadata": {},
   "source": [
    "Preparing the data"
   ]
  },
  {
   "cell_type": "code",
   "execution_count": 2,
   "metadata": {},
   "outputs": [],
   "source": [
    "url = \"http://transp-or.epfl.ch/data/swissmetro.dat\"\n",
    "\n",
    "# Read the data into a DataFrame\n",
    "df = pd.read_csv(url, sep='\\t')\n",
    "database_swissmetro = db.Database('swissmetro', df)\n",
    "\n",
    "#Definition of the variables:\n",
    "\n",
    "GROUP = Variable('GROUP')\n",
    "SURVEY = Variable('SURVEY')\n",
    "SP = Variable('SP')\n",
    "ID = Variable('ID')\n",
    "PURPOSE = Variable('PURPOSE')\n",
    "FIRST = Variable('FIRST')\n",
    "TICKET = Variable('TICKET')\n",
    "WHO = Variable('WHO')\n",
    "LUGGAGE = Variable('LUGGAGE')\n",
    "AGE = Variable('AGE')\n",
    "MALE = Variable('MALE')\n",
    "INCOME = Variable('INCOME')\n",
    "GA = Variable('GA')\n",
    "ORIGIN = Variable('ORIGIN')\n",
    "DEST = Variable('DEST')\n",
    "TRAIN_AV = Variable('TRAIN_AV')\n",
    "CAR_AV = Variable('CAR_AV')\n",
    "SM_AV = Variable('SM_AV')\n",
    "TRAIN_TT = Variable('TRAIN_TT')\n",
    "TRAIN_CO = Variable('TRAIN_CO')\n",
    "TRAIN_HE = Variable('TRAIN_HE')\n",
    "SM_TT = Variable('SM_TT')\n",
    "SM_CO = Variable('SM_CO')\n",
    "SM_HE = Variable('SM_HE')\n",
    "SM_SEATS = Variable('SM_SEATS')\n",
    "CAR_TT = Variable('CAR_TT')\n",
    "CAR_CO = Variable('CAR_CO')\n",
    "CHOICE = Variable('CHOICE')\n",
    "\n",
    "#We estimate the parameters of the model using all observations in the data set associated with work trips. \n",
    "#Observations such that the dependent variable CHOICE is 0 are also removed.\n",
    "\n",
    "exclude = ((PURPOSE != 1) * (PURPOSE != 3) + (CHOICE == 0)) > 0\n",
    "database_swissmetro.remove(exclude)\n",
    "\n",
    "#Definition of new variables:\n",
    "SM_COST = database_swissmetro.DefineVariable('SM_COST', SM_CO * (GA == 0))\n",
    "TRAIN_COST = database_swissmetro.DefineVariable('TRAIN_COST', TRAIN_CO * (GA == 0))\n",
    "CAR_AV_SP = database_swissmetro.DefineVariable('CAR_AV_SP', CAR_AV * (SP != 0))\n",
    "TRAIN_AV_SP = database_swissmetro.DefineVariable('TRAIN_AV_SP', TRAIN_AV * (SP != 0))\n",
    "TRAIN_TT_SCALED = database_swissmetro.DefineVariable('TRAIN_TT_SCALED', TRAIN_TT / 100)\n",
    "TRAIN_COST_SCALED = database_swissmetro.DefineVariable('TRAIN_COST_SCALED', TRAIN_COST / 100)\n",
    "SM_TT_SCALED = database_swissmetro.DefineVariable('SM_TT_SCALED', SM_TT / 100)\n",
    "SM_COST_SCALED = database_swissmetro.DefineVariable('SM_COST_SCALED', SM_COST / 100)\n",
    "CAR_TT_SCALED = database_swissmetro.DefineVariable('CAR_TT_SCALED', CAR_TT / 100)\n",
    "CAR_CO_SCALED = database_swissmetro.DefineVariable('CAR_CO_SCALED', CAR_CO / 100)\n",
    "\n",
    "database_swissmetro.panel('ID') \n",
    "\n"
   ]
  },
  {
   "cell_type": "markdown",
   "metadata": {},
   "source": [
    "Defining Model Parameters"
   ]
  },
  {
   "cell_type": "code",
   "execution_count": 3,
   "metadata": {},
   "outputs": [],
   "source": [
    "ASC_CAR = Beta('ASC_CAR', 0, None, None, 0)\n",
    "ASC_TRAIN = Beta('ASC_TRAIN', 0, None, None, 0)\n",
    "ASC_SM = Beta('ASC_SM', 0, None, None, 1) #Setting it to 0, no estimation"
   ]
  },
  {
   "cell_type": "markdown",
   "metadata": {},
   "source": [
    "Defining TWandom parameter, with Halton Draw, for Monte-Carlo Simulation"
   ]
  },
  {
   "cell_type": "code",
   "execution_count": 4,
   "metadata": {},
   "outputs": [],
   "source": [
    "B_TIME = Beta('B_TIME', 0, None, None, 0)\n",
    "B_TIME_S = Beta('B_TIME_S', 1, None, None, 0) \n",
    "B_TIME_RND = B_TIME + B_TIME_S * bioDraws('B_TIME_RND', 'NORMAL_HALTON3')\n",
    "\n",
    "B_COST = Beta('B_COST', 0, None, None, 0)\n",
    "B_COST_S = Beta('B_COST_S', 1, None, None, 0) \n",
    "B_COST_RND = B_COST + B_COST_S * bioDraws('B_COST_RND', 'NORMAL_HALTON3')\n",
    "\n",
    "SIGMA_V1 = Beta('SIGMA_V1', 1, None, None, 0)\n",
    "SIGMA_V1_RND = SIGMA_V1 * bioDraws('SIGMA_V1_RND', 'NORMAL_HALTON3')\n",
    "\n",
    "SIGMA_V2 = Beta('SIGMA_V2', 1, None, None, 0)\n",
    "SIGMA_V2_RND = SIGMA_V2 * bioDraws('SIGMA_V2_RND', 'NORMAL_HALTON3')\n",
    "\n"
   ]
  },
  {
   "cell_type": "markdown",
   "metadata": {},
   "source": [
    "Defining the Model"
   ]
  },
  {
   "cell_type": "code",
   "execution_count": 5,
   "metadata": {},
   "outputs": [],
   "source": [
    "V1 = ASC_TRAIN + B_TIME_RND * TRAIN_TT_SCALED + B_COST_RND * TRAIN_COST_SCALED + SIGMA_V1_RND\n",
    "V2 = ASC_SM + B_TIME_RND * SM_TT_SCALED + B_COST_RND * SM_COST_SCALED + SIGMA_V2_RND\n",
    "V3 = ASC_CAR + B_TIME_RND * CAR_TT_SCALED + B_COST_RND * CAR_CO_SCALED\n",
    "\n",
    "V = {1: V1, 2: V2, 3: V3}\n",
    "\n",
    "av = {1: TRAIN_AV_SP, 2: SM_AV, 3: CAR_AV_SP}"
   ]
  },
  {
   "cell_type": "markdown",
   "metadata": {},
   "source": [
    "Estimating the Model"
   ]
  },
  {
   "cell_type": "code",
   "execution_count": 6,
   "metadata": {},
   "outputs": [],
   "source": [
    "prob = models.logit(V, av, CHOICE)\n",
    "\n",
    "condprodIndiv = PanelLikelihoodTrajectory(prob) #will use panel data in this case\n",
    "\n",
    "logprob = log(MonteCarlo(condprodIndiv))\n",
    "\n",
    "\n",
    "USER_NOTES = (\n",
    "    'Example of a mixture of logit models with three alternatives, '\n",
    "    'approximated using Monte-Carlo integration. Two randoms coefficients.'\n",
    ")\n",
    "\n",
    "the_biogeme = bio.BIOGEME(\n",
    "    database_swissmetro, logprob, userNotes=USER_NOTES, parameter_file='few_draws.toml'\n",
    ")\n",
    "the_biogeme.modelName = 'swissmetro_Halton_Mixture_2'\n",
    "\n",
    "results = the_biogeme.estimate()\n"
   ]
  },
  {
   "cell_type": "code",
   "execution_count": 7,
   "metadata": {},
   "outputs": [
    {
     "name": "stdout",
     "output_type": "stream",
     "text": [
      "Number of estimated parameters:\t8\n",
      "Sample size:\t752\n",
      "Observations:\t6768\n",
      "Excluded observations:\t3960\n",
      "Init log likelihood:\t-4185.788\n",
      "Final log likelihood:\t-4185.505\n",
      "Likelihood ratio test for the init. model:\t0.567087\n",
      "Rho-square for the init. model:\t6.77e-05\n",
      "Rho-square-bar for the init. model:\t-0.00184\n",
      "Akaike Information Criterion:\t8387.009\n",
      "Bayesian Information Criterion:\t8423.991\n",
      "Final gradient norm:\t2.9716E-02\n",
      "Number of draws:\t1000\n",
      "Draws generation time:\t0:00:01.537614\n",
      "Types of draws:\t['B_COST_RND: NORMAL_HALTON3', 'B_TIME_RND: NORMAL_HALTON3', 'SIGMA_V1_RND: NORMAL_HALTON3', 'SIGMA_V2_RND: NORMAL_HALTON3']\n",
      "Nbr of threads:\t8\n",
      "\n"
     ]
    }
   ],
   "source": [
    "# Retrieve the general statistics from the results\n",
    "general_stats = results.getGeneralStatistics()\n",
    "print(results.printGeneralStatistics())"
   ]
  },
  {
   "cell_type": "code",
   "execution_count": 8,
   "metadata": {},
   "outputs": [
    {
     "data": {
      "text/html": [
       "<div>\n",
       "<style scoped>\n",
       "    .dataframe tbody tr th:only-of-type {\n",
       "        vertical-align: middle;\n",
       "    }\n",
       "\n",
       "    .dataframe tbody tr th {\n",
       "        vertical-align: top;\n",
       "    }\n",
       "\n",
       "    .dataframe thead th {\n",
       "        text-align: right;\n",
       "    }\n",
       "</style>\n",
       "<table border=\"1\" class=\"dataframe\">\n",
       "  <thead>\n",
       "    <tr style=\"text-align: right;\">\n",
       "      <th></th>\n",
       "      <th>Value</th>\n",
       "      <th>Rob. Std err</th>\n",
       "      <th>Rob. t-test</th>\n",
       "      <th>Rob. p-value</th>\n",
       "    </tr>\n",
       "  </thead>\n",
       "  <tbody>\n",
       "    <tr>\n",
       "      <th>ASC_CAR</th>\n",
       "      <td>0.049747</td>\n",
       "      <td>0.128483</td>\n",
       "      <td>0.387186</td>\n",
       "      <td>6.986186e-01</td>\n",
       "    </tr>\n",
       "    <tr>\n",
       "      <th>ASC_TRAIN</th>\n",
       "      <td>-1.791998</td>\n",
       "      <td>0.684164</td>\n",
       "      <td>-2.619251</td>\n",
       "      <td>8.812307e-03</td>\n",
       "    </tr>\n",
       "    <tr>\n",
       "      <th>B_COST</th>\n",
       "      <td>-2.063049</td>\n",
       "      <td>0.256759</td>\n",
       "      <td>-8.034952</td>\n",
       "      <td>8.881784e-16</td>\n",
       "    </tr>\n",
       "    <tr>\n",
       "      <th>B_COST_S</th>\n",
       "      <td>1.441702</td>\n",
       "      <td>0.255859</td>\n",
       "      <td>5.634753</td>\n",
       "      <td>1.753098e-08</td>\n",
       "    </tr>\n",
       "    <tr>\n",
       "      <th>B_TIME</th>\n",
       "      <td>-2.654529</td>\n",
       "      <td>0.359591</td>\n",
       "      <td>-7.382084</td>\n",
       "      <td>1.558753e-13</td>\n",
       "    </tr>\n",
       "    <tr>\n",
       "      <th>B_TIME_S</th>\n",
       "      <td>2.302046</td>\n",
       "      <td>0.558551</td>\n",
       "      <td>4.121464</td>\n",
       "      <td>3.764717e-05</td>\n",
       "    </tr>\n",
       "    <tr>\n",
       "      <th>SIGMA_V1</th>\n",
       "      <td>1.443818</td>\n",
       "      <td>0.885252</td>\n",
       "      <td>1.630969</td>\n",
       "      <td>1.028969e-01</td>\n",
       "    </tr>\n",
       "    <tr>\n",
       "      <th>SIGMA_V2</th>\n",
       "      <td>-0.403575</td>\n",
       "      <td>1.050672</td>\n",
       "      <td>-0.384112</td>\n",
       "      <td>7.008957e-01</td>\n",
       "    </tr>\n",
       "  </tbody>\n",
       "</table>\n",
       "</div>"
      ],
      "text/plain": [
       "              Value  Rob. Std err  Rob. t-test  Rob. p-value\n",
       "ASC_CAR    0.049747      0.128483     0.387186  6.986186e-01\n",
       "ASC_TRAIN -1.791998      0.684164    -2.619251  8.812307e-03\n",
       "B_COST    -2.063049      0.256759    -8.034952  8.881784e-16\n",
       "B_COST_S   1.441702      0.255859     5.634753  1.753098e-08\n",
       "B_TIME    -2.654529      0.359591    -7.382084  1.558753e-13\n",
       "B_TIME_S   2.302046      0.558551     4.121464  3.764717e-05\n",
       "SIGMA_V1   1.443818      0.885252     1.630969  1.028969e-01\n",
       "SIGMA_V2  -0.403575      1.050672    -0.384112  7.008957e-01"
      ]
     },
     "execution_count": 8,
     "metadata": {},
     "output_type": "execute_result"
    }
   ],
   "source": [
    "pandas_results = results.getEstimatedParameters()\n",
    "pandas_results"
   ]
  }
 ],
 "metadata": {
  "kernelspec": {
   "display_name": "biogeme",
   "language": "python",
   "name": "python3"
  },
  "language_info": {
   "codemirror_mode": {
    "name": "ipython",
    "version": 3
   },
   "file_extension": ".py",
   "mimetype": "text/x-python",
   "name": "python",
   "nbconvert_exporter": "python",
   "pygments_lexer": "ipython3",
   "version": "3.8.18"
  }
 },
 "nbformat": 4,
 "nbformat_minor": 2
}
