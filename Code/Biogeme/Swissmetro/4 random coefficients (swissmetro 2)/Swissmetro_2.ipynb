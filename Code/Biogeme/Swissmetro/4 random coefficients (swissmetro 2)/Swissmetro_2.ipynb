{
 "cells": [
  {
   "cell_type": "markdown",
   "metadata": {},
   "source": [
    "## Mixtures of Logit Swissmetro 2 - 4 random coefficients\n"
   ]
  },
  {
   "cell_type": "markdown",
   "metadata": {},
   "source": [
    "In the swissmetro 2 case, we have this time **4 random components** : time, cost, and error in the ASCs for train and car.\n",
    "\n",
    "Options for the few_draws.toml:\n",
    "- Second derivative set to 0\n",
    "- Number of draws: 100"
   ]
  },
  {
   "cell_type": "code",
   "execution_count": 1,
   "metadata": {},
   "outputs": [],
   "source": [
    "import pandas as pd\n",
    "import numpy as np\n",
    "import pandas as pd\n",
    "import biogeme.database as db\n",
    "import biogeme.biogeme as bio\n",
    "from biogeme import models\n",
    "from biogeme.expressions import Beta, Variable, bioDraws, MonteCarlo, log, Power, exp, Derive, RandomVariable, PanelLikelihoodTrajectory\n",
    "from biogeme.tools import TemporaryFile"
   ]
  },
  {
   "cell_type": "markdown",
   "metadata": {},
   "source": [
    "Preparing the data"
   ]
  },
  {
   "cell_type": "code",
   "execution_count": 2,
   "metadata": {},
   "outputs": [],
   "source": [
    "url = \"http://transp-or.epfl.ch/data/swissmetro.dat\"\n",
    "\n",
    "# Read the data into a DataFrame\n",
    "df = pd.read_csv(url, sep='\\t')\n",
    "database_swissmetro = db.Database('swissmetro', df)\n",
    "\n",
    "#Definition of the variables:\n",
    "\n",
    "GROUP = Variable('GROUP')\n",
    "SURVEY = Variable('SURVEY')\n",
    "SP = Variable('SP')\n",
    "ID = Variable('ID')\n",
    "PURPOSE = Variable('PURPOSE')\n",
    "FIRST = Variable('FIRST')\n",
    "TICKET = Variable('TICKET')\n",
    "WHO = Variable('WHO')\n",
    "LUGGAGE = Variable('LUGGAGE')\n",
    "AGE = Variable('AGE')\n",
    "MALE = Variable('MALE')\n",
    "INCOME = Variable('INCOME')\n",
    "GA = Variable('GA')\n",
    "ORIGIN = Variable('ORIGIN')\n",
    "DEST = Variable('DEST')\n",
    "TRAIN_AV = Variable('TRAIN_AV')\n",
    "CAR_AV = Variable('CAR_AV')\n",
    "SM_AV = Variable('SM_AV')\n",
    "TRAIN_TT = Variable('TRAIN_TT')\n",
    "TRAIN_CO = Variable('TRAIN_CO')\n",
    "TRAIN_HE = Variable('TRAIN_HE')\n",
    "SM_TT = Variable('SM_TT')\n",
    "SM_CO = Variable('SM_CO')\n",
    "SM_HE = Variable('SM_HE')\n",
    "SM_SEATS = Variable('SM_SEATS')\n",
    "CAR_TT = Variable('CAR_TT')\n",
    "CAR_CO = Variable('CAR_CO')\n",
    "CHOICE = Variable('CHOICE')\n",
    "\n",
    "#We estimate the parameters of the model using all observations in the data set associated with work trips. \n",
    "#Observations such that the dependent variable CHOICE is 0 are also removed.\n",
    "\n",
    "exclude = ((PURPOSE != 1) * (PURPOSE != 3) + (CHOICE == 0)) > 0\n",
    "database_swissmetro.remove(exclude)\n",
    "\n",
    "#Definition of new variables:\n",
    "SM_COST = database_swissmetro.DefineVariable('SM_COST', SM_CO * (GA == 0))\n",
    "TRAIN_COST = database_swissmetro.DefineVariable('TRAIN_COST', TRAIN_CO * (GA == 0))\n",
    "CAR_AV_SP = database_swissmetro.DefineVariable('CAR_AV_SP', CAR_AV * (SP != 0))\n",
    "TRAIN_AV_SP = database_swissmetro.DefineVariable('TRAIN_AV_SP', TRAIN_AV * (SP != 0))\n",
    "TRAIN_TT_SCALED = database_swissmetro.DefineVariable('TRAIN_TT_SCALED', TRAIN_TT / 100)\n",
    "TRAIN_COST_SCALED = database_swissmetro.DefineVariable('TRAIN_COST_SCALED', TRAIN_COST / 100)\n",
    "SM_TT_SCALED = database_swissmetro.DefineVariable('SM_TT_SCALED', SM_TT / 100)\n",
    "SM_COST_SCALED = database_swissmetro.DefineVariable('SM_COST_SCALED', SM_COST / 100)\n",
    "CAR_TT_SCALED = database_swissmetro.DefineVariable('CAR_TT_SCALED', CAR_TT / 100)\n",
    "CAR_CO_SCALED = database_swissmetro.DefineVariable('CAR_CO_SCALED', CAR_CO / 100)\n",
    "\n",
    "database_swissmetro.panel('ID') \n",
    "\n"
   ]
  },
  {
   "cell_type": "markdown",
   "metadata": {},
   "source": [
    "Defining Model Parameters"
   ]
  },
  {
   "cell_type": "code",
   "execution_count": 3,
   "metadata": {},
   "outputs": [],
   "source": [
    "ASC_CAR = Beta('ASC_CAR', 0, None, None, 0)\n",
    "ASC_TRAIN = Beta('ASC_TRAIN', 0, None, None, 0)\n",
    "ASC_SM = Beta('ASC_SM', 0, None, None, 1) #Setting it to 0, no estimation\n",
    "\n",
    "\n"
   ]
  },
  {
   "cell_type": "markdown",
   "metadata": {},
   "source": [
    "Defining Random parameter, with Halton Draw, for Monte-Carlo Simulation"
   ]
  },
  {
   "cell_type": "code",
   "execution_count": 4,
   "metadata": {},
   "outputs": [],
   "source": [
    "B_TIME = Beta('B_TIME', 0, None, None, 0)\n",
    "B_TIME_S = Beta('B_TIME_S', 1, None, None, 0) \n",
    "B_TIME_RND = B_TIME + B_TIME_S * bioDraws('B_TIME_RND', 'NORMAL')\n",
    "\n",
    "B_COST = Beta('B_COST', 0, None, None, 0)\n",
    "B_COST_S = Beta('B_COST_S', 1, None, None, 0)\n",
    "B_COST_RND = B_COST + B_COST_S * bioDraws('B_COST_RND', 'NORMAL')\n",
    "\n",
    "\n",
    "SIGMA_CAR = Beta('SIGMA_CAR', 1, None, None, 0)\n",
    "SIGMA_SM = Beta('SIGMA_SM', 1, None, None, 0)\n",
    "\n",
    "\n",
    "SIGMA_CAR_RND = SIGMA_CAR * bioDraws('SIGMA_CAR_RND', 'NORMAL')\n",
    "SIGMA_SM_RND = SIGMA_SM * bioDraws('SIGMA_SM_RND', 'NORMAL')\n",
    "\n"
   ]
  },
  {
   "cell_type": "markdown",
   "metadata": {},
   "source": [
    "Defining the Model"
   ]
  },
  {
   "cell_type": "code",
   "execution_count": 5,
   "metadata": {},
   "outputs": [],
   "source": [
    "V1 = ASC_TRAIN + B_TIME_RND * TRAIN_TT_SCALED + B_COST_RND * TRAIN_COST_SCALED + SIGMA_CAR_RND\n",
    "V2 = ASC_SM + B_TIME_RND * SM_TT_SCALED + B_COST_RND * SM_COST_SCALED + SIGMA_SM_RND\n",
    "V3 = ASC_CAR + B_TIME_RND * CAR_TT_SCALED + B_COST_RND * CAR_CO_SCALED\n",
    "\n",
    "V = {1: V1, 2: V2, 3: V3}\n",
    "\n",
    "av = {1: TRAIN_AV_SP, 2: SM_AV, 3: CAR_AV_SP}"
   ]
  },
  {
   "cell_type": "markdown",
   "metadata": {},
   "source": [
    "Estimating the Model"
   ]
  },
  {
   "cell_type": "code",
   "execution_count": 6,
   "metadata": {},
   "outputs": [],
   "source": [
    "prob = models.logit(V, av, CHOICE)\n",
    "\n",
    "condprodIndiv = PanelLikelihoodTrajectory(prob) #will use panel data in this case\n",
    "\n",
    "logprob = log(MonteCarlo(condprodIndiv))\n",
    "\n",
    "\n",
    "USER_NOTES = (\n",
    "    'Example of a mixture of logit models with three alternatives, 4 random components, '\n",
    "    'approximated using Monte-Carlo integration. '\n",
    ")\n",
    "\n",
    "the_biogeme = bio.BIOGEME(\n",
    "    database_swissmetro, logprob, userNotes=USER_NOTES, parameter_file='few_draws.toml'\n",
    ")\n",
    "the_biogeme.modelName = 'swissmetro_Halton_Mixture_4_random_coefficients'\n",
    "\n",
    "results = the_biogeme.estimate()\n"
   ]
  },
  {
   "cell_type": "code",
   "execution_count": 7,
   "metadata": {},
   "outputs": [
    {
     "name": "stdout",
     "output_type": "stream",
     "text": [
      "Number of estimated parameters:\t8\n",
      "Sample size:\t752\n",
      "Observations:\t6768\n",
      "Excluded observations:\t3960\n",
      "Init log likelihood:\t-3578.159\n",
      "Final log likelihood:\t-3568.864\n",
      "Likelihood ratio test for the init. model:\t18.59008\n",
      "Rho-square for the init. model:\t0.0026\n",
      "Rho-square-bar for the init. model:\t0.000362\n",
      "Akaike Information Criterion:\t7153.728\n",
      "Bayesian Information Criterion:\t7190.71\n",
      "Final gradient norm:\t4.6561E-03\n",
      "Number of draws:\t10000\n",
      "Draws generation time:\t0:00:18.286415\n",
      "Types of draws:\t['B_COST_RND: NORMAL', 'B_TIME_RND: NORMAL', 'SIGMA_CAR_RND: NORMAL', 'SIGMA_SM_RND: NORMAL']\n",
      "Nbr of threads:\t8\n",
      "\n"
     ]
    }
   ],
   "source": [
    "# Retrieve the general statistics from the results\n",
    "general_stats = results.getGeneralStatistics()\n",
    "print(results.printGeneralStatistics())"
   ]
  },
  {
   "cell_type": "code",
   "execution_count": 8,
   "metadata": {},
   "outputs": [
    {
     "data": {
      "text/html": [
       "<div>\n",
       "<style scoped>\n",
       "    .dataframe tbody tr th:only-of-type {\n",
       "        vertical-align: middle;\n",
       "    }\n",
       "\n",
       "    .dataframe tbody tr th {\n",
       "        vertical-align: top;\n",
       "    }\n",
       "\n",
       "    .dataframe thead th {\n",
       "        text-align: right;\n",
       "    }\n",
       "</style>\n",
       "<table border=\"1\" class=\"dataframe\">\n",
       "  <thead>\n",
       "    <tr style=\"text-align: right;\">\n",
       "      <th></th>\n",
       "      <th>Value</th>\n",
       "      <th>Rob. Std err</th>\n",
       "      <th>Rob. t-test</th>\n",
       "      <th>Rob. p-value</th>\n",
       "    </tr>\n",
       "  </thead>\n",
       "  <tbody>\n",
       "    <tr>\n",
       "      <th>ASC_CAR</th>\n",
       "      <td>0.683920</td>\n",
       "      <td>0.202291</td>\n",
       "      <td>3.380871</td>\n",
       "      <td>0.000723</td>\n",
       "    </tr>\n",
       "    <tr>\n",
       "      <th>ASC_TRAIN</th>\n",
       "      <td>-1.092575</td>\n",
       "      <td>0.284808</td>\n",
       "      <td>-3.836175</td>\n",
       "      <td>0.000125</td>\n",
       "    </tr>\n",
       "    <tr>\n",
       "      <th>B_COST</th>\n",
       "      <td>-4.928017</td>\n",
       "      <td>0.328629</td>\n",
       "      <td>-14.995700</td>\n",
       "      <td>0.000000</td>\n",
       "    </tr>\n",
       "    <tr>\n",
       "      <th>B_COST_S</th>\n",
       "      <td>3.264456</td>\n",
       "      <td>0.348819</td>\n",
       "      <td>9.358600</td>\n",
       "      <td>0.000000</td>\n",
       "    </tr>\n",
       "    <tr>\n",
       "      <th>B_TIME</th>\n",
       "      <td>-5.881205</td>\n",
       "      <td>0.366155</td>\n",
       "      <td>-16.062053</td>\n",
       "      <td>0.000000</td>\n",
       "    </tr>\n",
       "    <tr>\n",
       "      <th>B_TIME_S</th>\n",
       "      <td>3.498219</td>\n",
       "      <td>0.217674</td>\n",
       "      <td>16.070931</td>\n",
       "      <td>0.000000</td>\n",
       "    </tr>\n",
       "    <tr>\n",
       "      <th>SIGMA_CAR</th>\n",
       "      <td>3.222521</td>\n",
       "      <td>0.348712</td>\n",
       "      <td>9.241213</td>\n",
       "      <td>0.000000</td>\n",
       "    </tr>\n",
       "    <tr>\n",
       "      <th>SIGMA_SM</th>\n",
       "      <td>2.992446</td>\n",
       "      <td>0.203537</td>\n",
       "      <td>14.702204</td>\n",
       "      <td>0.000000</td>\n",
       "    </tr>\n",
       "  </tbody>\n",
       "</table>\n",
       "</div>"
      ],
      "text/plain": [
       "              Value  Rob. Std err  Rob. t-test  Rob. p-value\n",
       "ASC_CAR    0.683920      0.202291     3.380871      0.000723\n",
       "ASC_TRAIN -1.092575      0.284808    -3.836175      0.000125\n",
       "B_COST    -4.928017      0.328629   -14.995700      0.000000\n",
       "B_COST_S   3.264456      0.348819     9.358600      0.000000\n",
       "B_TIME    -5.881205      0.366155   -16.062053      0.000000\n",
       "B_TIME_S   3.498219      0.217674    16.070931      0.000000\n",
       "SIGMA_CAR  3.222521      0.348712     9.241213      0.000000\n",
       "SIGMA_SM   2.992446      0.203537    14.702204      0.000000"
      ]
     },
     "execution_count": 8,
     "metadata": {},
     "output_type": "execute_result"
    }
   ],
   "source": [
    "pandas_results = results.getEstimatedParameters()\n",
    "pandas_results"
   ]
  }
 ],
 "metadata": {
  "kernelspec": {
   "display_name": "biogeme",
   "language": "python",
   "name": "python3"
  },
  "language_info": {
   "codemirror_mode": {
    "name": "ipython",
    "version": 3
   },
   "file_extension": ".py",
   "mimetype": "text/x-python",
   "name": "python",
   "nbconvert_exporter": "python",
   "pygments_lexer": "ipython3",
   "version": "3.8.18"
  }
 },
 "nbformat": 4,
 "nbformat_minor": 2
}
