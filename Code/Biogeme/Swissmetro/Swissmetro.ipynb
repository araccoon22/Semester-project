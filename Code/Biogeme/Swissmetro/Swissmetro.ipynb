{
 "cells": [
  {
   "cell_type": "markdown",
   "metadata": {},
   "source": [
    "Mixtures of Logit Swissmetro\n"
   ]
  },
  {
   "cell_type": "markdown",
   "metadata": {},
   "source": [
    "Preparing the data"
   ]
  },
  {
   "cell_type": "code",
   "execution_count": 13,
   "metadata": {},
   "outputs": [
    {
     "data": {
      "text/plain": [
       "Index(['GROUP', 'SURVEY', 'SP', 'ID', 'PURPOSE', 'FIRST', 'TICKET', 'WHO',\n",
       "       'LUGGAGE', 'AGE', 'MALE', 'INCOME', 'GA', 'ORIGIN', 'DEST', 'TRAIN_AV',\n",
       "       'CAR_AV', 'SM_AV', 'TRAIN_TT', 'TRAIN_CO', 'TRAIN_HE', 'SM_TT', 'SM_CO',\n",
       "       'SM_HE', 'SM_SEATS', 'CAR_TT', 'CAR_CO', 'CHOICE'],\n",
       "      dtype='object')"
      ]
     },
     "execution_count": 13,
     "metadata": {},
     "output_type": "execute_result"
    }
   ],
   "source": [
    "import pandas as pd\n",
    "import numpy as np\n",
    "import pandas as pd\n",
    "import biogeme.database as db\n",
    "import biogeme.biogeme as bio\n",
    "from biogeme import models\n",
    "from biogeme.expressions import Beta, MonteCarlo, log, bioDraws\n",
    "from biogeme.tools import TemporaryFile\n",
    "\n",
    "url = \"http://transp-or.epfl.ch/data/swissmetro.dat\"\n",
    "\n",
    "# Read the data into a DataFrame\n",
    "swissmetro = pd.read_csv(url, sep='\\t')\n",
    "\n",
    "\n",
    "database_swissmetro = db.Database('Swissmetro_Model', swissmetro)\n",
    "globals().update(database_swissmetro.variables) #transform all columns into variables\n",
    "\n",
    "swissmetro.columns\n",
    "\n"
   ]
  },
  {
   "cell_type": "markdown",
   "metadata": {},
   "source": [
    "Defining Model Parameters"
   ]
  },
  {
   "cell_type": "code",
   "execution_count": 8,
   "metadata": {},
   "outputs": [],
   "source": [
    "ASC_CAR = Beta('ASC_CAR', 0, None, None, 0)\n",
    "ASC_TRAIN = Beta('ASC_TRAIN', 0, None, None, 0)\n",
    "ASC_SM = Beta('ASC_SM', 0, None, None, 1)\n",
    "B_COST = Beta('B_COST', 0, None, None, 0)"
   ]
  },
  {
   "cell_type": "markdown",
   "metadata": {},
   "source": [
    "Defining Random parameter, with Halton Draw, for Monte-Carlo Simulation"
   ]
  },
  {
   "cell_type": "code",
   "execution_count": 9,
   "metadata": {},
   "outputs": [],
   "source": [
    "B_TIME = Beta('B_TIME', 0, None, None, 0)\n",
    "B_TIME_S = Beta('B_TIME_S', 1, None, None, 0)\n",
    "B_TIME_RND = B_TIME + B_TIME_S * bioDraws('B_TIME_RND', 'HALTON2')"
   ]
  },
  {
   "cell_type": "markdown",
   "metadata": {},
   "source": [
    "Defining the Model"
   ]
  },
  {
   "cell_type": "code",
   "execution_count": 15,
   "metadata": {},
   "outputs": [],
   "source": [
    "V1 = ASC_TRAIN + B_TIME_RND * TRAIN_TT + B_COST * TRAIN_CO\n",
    "V2 = ASC_SM + B_TIME_RND * SM_TT + B_COST * SM_CO\n",
    "V3 = ASC_CAR + B_TIME_RND * CAR_TT + B_COST * CAR_CO\n",
    "\n",
    "V = {1: V1, 2: V2, 3: V3}\n",
    "\n",
    "av = {1: TRAIN_AV, 2: SM_AV, 3: CAR_AV}"
   ]
  },
  {
   "cell_type": "markdown",
   "metadata": {},
   "source": [
    "Estimating the Model"
   ]
  },
  {
   "cell_type": "code",
   "execution_count": 17,
   "metadata": {},
   "outputs": [
    {
     "name": "stderr",
     "output_type": "stream",
     "text": [
      "File few_draws.toml has been created\n"
     ]
    },
    {
     "ename": "BiogemeError",
     "evalue": "Chosen alternative 0.0 does not appear in availability dict: dict_keys([1, 2, 3])",
     "output_type": "error",
     "traceback": [
      "\u001b[1;31m---------------------------------------------------------------------------\u001b[0m",
      "\u001b[1;31mKeyError\u001b[0m                                  Traceback (most recent call last)",
      "File \u001b[1;32mc:\\Users\\alexi\\anaconda3\\envs\\biogeme\\lib\\site-packages\\biogeme\\database.py:433\u001b[0m, in \u001b[0;36mDatabase.checkAvailabilityOfChosenAlt\u001b[1;34m(self, avail, choice)\u001b[0m\n\u001b[0;32m    431\u001b[0m \u001b[38;5;28;01mtry\u001b[39;00m:\n\u001b[0;32m    432\u001b[0m     avail_chosen \u001b[38;5;241m=\u001b[39m np\u001b[38;5;241m.\u001b[39marray(\n\u001b[1;32m--> 433\u001b[0m         [calculated_avail[c][i] \u001b[38;5;28;01mfor\u001b[39;00m i, c \u001b[38;5;129;01min\u001b[39;00m \u001b[38;5;28menumerate\u001b[39m(choice_array)]\n\u001b[0;32m    434\u001b[0m     )\n\u001b[0;32m    435\u001b[0m \u001b[38;5;28;01mexcept\u001b[39;00m \u001b[38;5;167;01mKeyError\u001b[39;00m \u001b[38;5;28;01mas\u001b[39;00m exc:\n",
      "File \u001b[1;32mc:\\Users\\alexi\\anaconda3\\envs\\biogeme\\lib\\site-packages\\biogeme\\database.py:433\u001b[0m, in \u001b[0;36m<listcomp>\u001b[1;34m(.0)\u001b[0m\n\u001b[0;32m    431\u001b[0m \u001b[38;5;28;01mtry\u001b[39;00m:\n\u001b[0;32m    432\u001b[0m     avail_chosen \u001b[38;5;241m=\u001b[39m np\u001b[38;5;241m.\u001b[39marray(\n\u001b[1;32m--> 433\u001b[0m         [\u001b[43mcalculated_avail\u001b[49m\u001b[43m[\u001b[49m\u001b[43mc\u001b[49m\u001b[43m]\u001b[49m[i] \u001b[38;5;28;01mfor\u001b[39;00m i, c \u001b[38;5;129;01min\u001b[39;00m \u001b[38;5;28menumerate\u001b[39m(choice_array)]\n\u001b[0;32m    434\u001b[0m     )\n\u001b[0;32m    435\u001b[0m \u001b[38;5;28;01mexcept\u001b[39;00m \u001b[38;5;167;01mKeyError\u001b[39;00m \u001b[38;5;28;01mas\u001b[39;00m exc:\n",
      "\u001b[1;31mKeyError\u001b[0m: 0.0",
      "\nThe above exception was the direct cause of the following exception:\n",
      "\u001b[1;31mBiogemeError\u001b[0m                              Traceback (most recent call last)",
      "Cell \u001b[1;32mIn[17], line 9\u001b[0m\n\u001b[0;32m      2\u001b[0m logprob \u001b[38;5;241m=\u001b[39m log(MonteCarlo(prob))\n\u001b[0;32m      4\u001b[0m USER_NOTES \u001b[38;5;241m=\u001b[39m (\n\u001b[0;32m      5\u001b[0m     \u001b[38;5;124m'\u001b[39m\u001b[38;5;124mExample of a mixture of logit models with three alternatives, \u001b[39m\u001b[38;5;124m'\u001b[39m\n\u001b[0;32m      6\u001b[0m     \u001b[38;5;124m'\u001b[39m\u001b[38;5;124mapproximated using Monte-Carlo integration.\u001b[39m\u001b[38;5;124m'\u001b[39m\n\u001b[0;32m      7\u001b[0m )\n\u001b[1;32m----> 9\u001b[0m the_biogeme \u001b[38;5;241m=\u001b[39m \u001b[43mbio\u001b[49m\u001b[38;5;241;43m.\u001b[39;49m\u001b[43mBIOGEME\u001b[49m\u001b[43m(\u001b[49m\n\u001b[0;32m     10\u001b[0m \u001b[43m    \u001b[49m\u001b[43mdatabase_swissmetro\u001b[49m\u001b[43m,\u001b[49m\u001b[43m \u001b[49m\u001b[43mlogprob\u001b[49m\u001b[43m,\u001b[49m\u001b[43m \u001b[49m\u001b[43muserNotes\u001b[49m\u001b[38;5;241;43m=\u001b[39;49m\u001b[43mUSER_NOTES\u001b[49m\u001b[43m,\u001b[49m\u001b[43m \u001b[49m\u001b[43mparameter_file\u001b[49m\u001b[38;5;241;43m=\u001b[39;49m\u001b[38;5;124;43m'\u001b[39;49m\u001b[38;5;124;43mfew_draws.toml\u001b[39;49m\u001b[38;5;124;43m'\u001b[39;49m\n\u001b[0;32m     11\u001b[0m \u001b[43m)\u001b[49m\n\u001b[0;32m     12\u001b[0m the_biogeme\u001b[38;5;241m.\u001b[39mmodelName \u001b[38;5;241m=\u001b[39m \u001b[38;5;124m'\u001b[39m\u001b[38;5;124mb05normal_mixture\u001b[39m\u001b[38;5;124m'\u001b[39m\n",
      "File \u001b[1;32mc:\\Users\\alexi\\anaconda3\\envs\\biogeme\\lib\\site-packages\\biogeme\\biogeme.py:239\u001b[0m, in \u001b[0;36mBIOGEME.__init__\u001b[1;34m(self, database, formulas, userNotes, parameter_file, skip_audit, **kwargs)\u001b[0m\n\u001b[0;32m    236\u001b[0m \u001b[38;5;28mself\u001b[39m\u001b[38;5;241m.\u001b[39m_prepareDatabaseForFormula()\n\u001b[0;32m    238\u001b[0m \u001b[38;5;28;01mif\u001b[39;00m \u001b[38;5;129;01mnot\u001b[39;00m \u001b[38;5;28mself\u001b[39m\u001b[38;5;241m.\u001b[39mskip_audit:\n\u001b[1;32m--> 239\u001b[0m     \u001b[38;5;28;43mself\u001b[39;49m\u001b[38;5;241;43m.\u001b[39;49m\u001b[43m_audit\u001b[49m\u001b[43m(\u001b[49m\u001b[43m)\u001b[49m\n\u001b[0;32m    241\u001b[0m \u001b[38;5;28mself\u001b[39m\u001b[38;5;241m.\u001b[39mreset_id_manager()\n\u001b[0;32m    243\u001b[0m \u001b[38;5;28mself\u001b[39m\u001b[38;5;241m.\u001b[39mtheC \u001b[38;5;241m=\u001b[39m cb\u001b[38;5;241m.\u001b[39mpyBiogeme(\u001b[38;5;28mself\u001b[39m\u001b[38;5;241m.\u001b[39mid_manager\u001b[38;5;241m.\u001b[39mnumber_of_free_betas)\n",
      "File \u001b[1;32mc:\\Users\\alexi\\anaconda3\\envs\\biogeme\\lib\\site-packages\\biogeme\\biogeme.py:809\u001b[0m, in \u001b[0;36mBIOGEME._audit\u001b[1;34m(self)\u001b[0m\n\u001b[0;32m    804\u001b[0m     err_msg \u001b[38;5;241m=\u001b[39m (\n\u001b[0;32m    805\u001b[0m         \u001b[38;5;124mf\u001b[39m\u001b[38;5;124m'\u001b[39m\u001b[38;5;124mThe following random variables are defined \u001b[39m\u001b[38;5;124m'\u001b[39m\n\u001b[0;32m    806\u001b[0m         \u001b[38;5;124mf\u001b[39m\u001b[38;5;124m'\u001b[39m\u001b[38;5;124moutside the Integrate operator: \u001b[39m\u001b[38;5;132;01m{\u001b[39;00mcheck_draws\u001b[38;5;132;01m}\u001b[39;00m\u001b[38;5;124m'\u001b[39m\n\u001b[0;32m    807\u001b[0m     )\n\u001b[0;32m    808\u001b[0m     list_of_errors\u001b[38;5;241m.\u001b[39mappend(err_msg)\n\u001b[1;32m--> 809\u001b[0m err, war \u001b[38;5;241m=\u001b[39m \u001b[43mv\u001b[49m\u001b[38;5;241;43m.\u001b[39;49m\u001b[43maudit\u001b[49m\u001b[43m(\u001b[49m\u001b[38;5;28;43mself\u001b[39;49m\u001b[38;5;241;43m.\u001b[39;49m\u001b[43mdatabase\u001b[49m\u001b[43m)\u001b[49m\n\u001b[0;32m    810\u001b[0m list_of_errors \u001b[38;5;241m+\u001b[39m\u001b[38;5;241m=\u001b[39m err\n\u001b[0;32m    811\u001b[0m list_of_warnings \u001b[38;5;241m+\u001b[39m\u001b[38;5;241m=\u001b[39m war\n",
      "File \u001b[1;32mc:\\Users\\alexi\\anaconda3\\envs\\biogeme\\lib\\site-packages\\biogeme\\expressions.py:1200\u001b[0m, in \u001b[0;36mExpression.audit\u001b[1;34m(self, database)\u001b[0m\n\u001b[0;32m   1198\u001b[0m     the_error \u001b[38;5;241m=\u001b[39m \u001b[38;5;124mf\u001b[39m\u001b[38;5;124m'\u001b[39m\u001b[38;5;124mInvalid expression: \u001b[39m\u001b[38;5;132;01m{\u001b[39;00me\u001b[38;5;132;01m}\u001b[39;00m\u001b[38;5;124m'\u001b[39m\n\u001b[0;32m   1199\u001b[0m     list_of_errors\u001b[38;5;241m.\u001b[39mappend(the_error)\n\u001b[1;32m-> 1200\u001b[0m err, war \u001b[38;5;241m=\u001b[39m \u001b[43me\u001b[49m\u001b[38;5;241;43m.\u001b[39;49m\u001b[43maudit\u001b[49m\u001b[43m(\u001b[49m\u001b[43mdatabase\u001b[49m\u001b[43m)\u001b[49m\n\u001b[0;32m   1201\u001b[0m list_of_errors \u001b[38;5;241m+\u001b[39m\u001b[38;5;241m=\u001b[39m err\n\u001b[0;32m   1202\u001b[0m list_of_warnings \u001b[38;5;241m+\u001b[39m\u001b[38;5;241m=\u001b[39m war\n",
      "File \u001b[1;32mc:\\Users\\alexi\\anaconda3\\envs\\biogeme\\lib\\site-packages\\biogeme\\expressions.py:1957\u001b[0m, in \u001b[0;36mMonteCarlo.audit\u001b[1;34m(self, database)\u001b[0m\n\u001b[0;32m   1947\u001b[0m \u001b[38;5;28;01mdef\u001b[39;00m \u001b[38;5;21maudit\u001b[39m(\u001b[38;5;28mself\u001b[39m, database\u001b[38;5;241m=\u001b[39m\u001b[38;5;28;01mNone\u001b[39;00m):\n\u001b[0;32m   1948\u001b[0m \u001b[38;5;250m    \u001b[39m\u001b[38;5;124;03m\"\"\"Performs various checks on the expressions.\u001b[39;00m\n\u001b[0;32m   1949\u001b[0m \n\u001b[0;32m   1950\u001b[0m \u001b[38;5;124;03m    :param database: database object\u001b[39;00m\n\u001b[1;32m   (...)\u001b[0m\n\u001b[0;32m   1955\u001b[0m \n\u001b[0;32m   1956\u001b[0m \u001b[38;5;124;03m    \"\"\"\u001b[39;00m\n\u001b[1;32m-> 1957\u001b[0m     list_of_errors, list_of_warnings \u001b[38;5;241m=\u001b[39m \u001b[38;5;28;43mself\u001b[39;49m\u001b[38;5;241;43m.\u001b[39;49m\u001b[43mchild\u001b[49m\u001b[38;5;241;43m.\u001b[39;49m\u001b[43maudit\u001b[49m\u001b[43m(\u001b[49m\u001b[43mdatabase\u001b[49m\u001b[43m)\u001b[49m\n\u001b[0;32m   1958\u001b[0m     \u001b[38;5;28;01mif\u001b[39;00m database \u001b[38;5;129;01mis\u001b[39;00m \u001b[38;5;28;01mNone\u001b[39;00m:\n\u001b[0;32m   1959\u001b[0m         \u001b[38;5;28;01mif\u001b[39;00m \u001b[38;5;28mself\u001b[39m\u001b[38;5;241m.\u001b[39mchild\u001b[38;5;241m.\u001b[39membedExpression(\u001b[38;5;124m'\u001b[39m\u001b[38;5;124mPanelLikelihoodTrajectory\u001b[39m\u001b[38;5;124m'\u001b[39m):\n",
      "File \u001b[1;32mc:\\Users\\alexi\\anaconda3\\envs\\biogeme\\lib\\site-packages\\biogeme\\expressions.py:1200\u001b[0m, in \u001b[0;36mExpression.audit\u001b[1;34m(self, database)\u001b[0m\n\u001b[0;32m   1198\u001b[0m     the_error \u001b[38;5;241m=\u001b[39m \u001b[38;5;124mf\u001b[39m\u001b[38;5;124m'\u001b[39m\u001b[38;5;124mInvalid expression: \u001b[39m\u001b[38;5;132;01m{\u001b[39;00me\u001b[38;5;132;01m}\u001b[39;00m\u001b[38;5;124m'\u001b[39m\n\u001b[0;32m   1199\u001b[0m     list_of_errors\u001b[38;5;241m.\u001b[39mappend(the_error)\n\u001b[1;32m-> 1200\u001b[0m err, war \u001b[38;5;241m=\u001b[39m \u001b[43me\u001b[49m\u001b[38;5;241;43m.\u001b[39;49m\u001b[43maudit\u001b[49m\u001b[43m(\u001b[49m\u001b[43mdatabase\u001b[49m\u001b[43m)\u001b[49m\n\u001b[0;32m   1201\u001b[0m list_of_errors \u001b[38;5;241m+\u001b[39m\u001b[38;5;241m=\u001b[39m err\n\u001b[0;32m   1202\u001b[0m list_of_warnings \u001b[38;5;241m+\u001b[39m\u001b[38;5;241m=\u001b[39m war\n",
      "File \u001b[1;32mc:\\Users\\alexi\\anaconda3\\envs\\biogeme\\lib\\site-packages\\biogeme\\expressions.py:3261\u001b[0m, in \u001b[0;36mLogLogit.audit\u001b[1;34m(self, database)\u001b[0m\n\u001b[0;32m   3259\u001b[0m         list_of_warnings\u001b[38;5;241m.\u001b[39mappend(the_error)\n\u001b[0;32m   3260\u001b[0m \u001b[38;5;28;01melse\u001b[39;00m:\n\u001b[1;32m-> 3261\u001b[0m     choiceAvailability \u001b[38;5;241m=\u001b[39m \u001b[43mdatabase\u001b[49m\u001b[38;5;241;43m.\u001b[39;49m\u001b[43mcheckAvailabilityOfChosenAlt\u001b[49m\u001b[43m(\u001b[49m\n\u001b[0;32m   3262\u001b[0m \u001b[43m        \u001b[49m\u001b[38;5;28;43mself\u001b[39;49m\u001b[38;5;241;43m.\u001b[39;49m\u001b[43mav\u001b[49m\u001b[43m,\u001b[49m\u001b[43m \u001b[49m\u001b[38;5;28;43mself\u001b[39;49m\u001b[38;5;241;43m.\u001b[39;49m\u001b[43mchoice\u001b[49m\n\u001b[0;32m   3263\u001b[0m \u001b[43m    \u001b[49m\u001b[43m)\u001b[49m\n\u001b[0;32m   3264\u001b[0m     indexOfUnavailableChoices \u001b[38;5;241m=\u001b[39m np\u001b[38;5;241m.\u001b[39mwhere(\u001b[38;5;241m~\u001b[39mchoiceAvailability)[\u001b[38;5;241m0\u001b[39m]\n\u001b[0;32m   3265\u001b[0m     \u001b[38;5;28;01mif\u001b[39;00m indexOfUnavailableChoices\u001b[38;5;241m.\u001b[39msize \u001b[38;5;241m>\u001b[39m \u001b[38;5;241m0\u001b[39m:\n",
      "File \u001b[1;32mc:\\Users\\alexi\\anaconda3\\envs\\biogeme\\lib\\site-packages\\biogeme\\database.py:443\u001b[0m, in \u001b[0;36mDatabase.checkAvailabilityOfChosenAlt\u001b[1;34m(self, avail, choice)\u001b[0m\n\u001b[0;32m    438\u001b[0m         \u001b[38;5;28;01mif\u001b[39;00m c \u001b[38;5;129;01mnot\u001b[39;00m \u001b[38;5;129;01min\u001b[39;00m calculated_avail:\n\u001b[0;32m    439\u001b[0m             err_msg \u001b[38;5;241m=\u001b[39m (\n\u001b[0;32m    440\u001b[0m                 \u001b[38;5;124mf\u001b[39m\u001b[38;5;124m'\u001b[39m\u001b[38;5;124mChosen alternative \u001b[39m\u001b[38;5;132;01m{\u001b[39;00mc\u001b[38;5;132;01m}\u001b[39;00m\u001b[38;5;124m does not appear in \u001b[39m\u001b[38;5;124m'\u001b[39m\n\u001b[0;32m    441\u001b[0m                 \u001b[38;5;124mf\u001b[39m\u001b[38;5;124m'\u001b[39m\u001b[38;5;124mavailability dict: \u001b[39m\u001b[38;5;132;01m{\u001b[39;00mcalculated_avail\u001b[38;5;241m.\u001b[39mkeys()\u001b[38;5;132;01m}\u001b[39;00m\u001b[38;5;124m'\u001b[39m\n\u001b[0;32m    442\u001b[0m             )\n\u001b[1;32m--> 443\u001b[0m             \u001b[38;5;28;01mraise\u001b[39;00m excep\u001b[38;5;241m.\u001b[39mBiogemeError(err_msg) \u001b[38;5;28;01mfrom\u001b[39;00m \u001b[38;5;21;01mexc\u001b[39;00m\n\u001b[0;32m    444\u001b[0m \u001b[38;5;28;01mreturn\u001b[39;00m avail_chosen \u001b[38;5;241m!=\u001b[39m \u001b[38;5;241m0\u001b[39m\n",
      "\u001b[1;31mBiogemeError\u001b[0m: Chosen alternative 0.0 does not appear in availability dict: dict_keys([1, 2, 3])"
     ]
    }
   ],
   "source": [
    "prob = models.logit(V, av, CHOICE)\n",
    "logprob = log(MonteCarlo(prob))\n",
    "\n",
    "USER_NOTES = (\n",
    "    'Example of a mixture of logit models with three alternatives, '\n",
    "    'approximated using Monte-Carlo integration.'\n",
    ")\n",
    "\n",
    "the_biogeme = bio.BIOGEME(\n",
    "    database_swissmetro, logprob, userNotes=USER_NOTES, parameter_file='few_draws.toml'\n",
    ")\n",
    "the_biogeme.modelName = 'b05normal_mixture'"
   ]
  }
 ],
 "metadata": {
  "kernelspec": {
   "display_name": "biogeme",
   "language": "python",
   "name": "python3"
  },
  "language_info": {
   "codemirror_mode": {
    "name": "ipython",
    "version": 3
   },
   "file_extension": ".py",
   "mimetype": "text/x-python",
   "name": "python",
   "nbconvert_exporter": "python",
   "pygments_lexer": "ipython3",
   "version": "3.8.18"
  }
 },
 "nbformat": 4,
 "nbformat_minor": 2
}
