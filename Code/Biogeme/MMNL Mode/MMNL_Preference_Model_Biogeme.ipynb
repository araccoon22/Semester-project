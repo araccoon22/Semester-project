{
 "cells": [
  {
   "cell_type": "code",
   "execution_count": 9,
   "metadata": {},
   "outputs": [],
   "source": [
    "import pandas as pd\n",
    "import numpy as np\n",
    "import pandas as pd\n",
    "import biogeme.database as db\n",
    "import biogeme.biogeme as bio\n",
    "from biogeme import models, tools\n",
    "from biogeme.expressions import Beta, Variable, bioDraws, MonteCarlo, log, Power, exp, Derive, RandomVariable\n",
    "import biogeme.distributions as dist\n",
    "import scipy.stats as st\n",
    "import time"
   ]
  },
  {
   "cell_type": "markdown",
   "metadata": {},
   "source": [
    "Data description"
   ]
  },
  {
   "cell_type": "markdown",
   "metadata": {},
   "source": [
    "The dataset `apollo_swissRouteChoiceData` comes from an actual SP survey of public transport route choice conducted in\n",
    "Switzerland (Axhausen et al., 2008). A set of 388 people were faced with 9 choices each between two public transport routes, both using train (leading to 3'492 observations in the data). The two alternatives are described on the basis of travel time, travel cost, headway (time between subsequent trains/busses) and the number of interchanges. For each individual, the dataset\n",
    "additionally contains information on income, car availability in the household, and whether the\n",
    "journey was made for commuting, shopping, business or leisure.\n",
    "\n",
    "See slide 79 Apollo Documentation for more info on Mixtures"
   ]
  },
  {
   "cell_type": "markdown",
   "metadata": {},
   "source": [
    "Preparing the data"
   ]
  },
  {
   "cell_type": "code",
   "execution_count": 10,
   "metadata": {},
   "outputs": [
    {
     "data": {
      "text/plain": [
       "Index(['ID', 'choice', 'tt1', 'tc1', 'hw1', 'ch1', 'tt2', 'tc2', 'hw2', 'ch2',\n",
       "       'hh_inc_abs', 'car_availability', 'commute', 'shopping', 'business',\n",
       "       'leisure'],\n",
       "      dtype='object')"
      ]
     },
     "execution_count": 10,
     "metadata": {},
     "output_type": "execute_result"
    }
   ],
   "source": [
    "# Read the CSV file\n",
    "df = pd.read_csv(r\"C:\\Users\\alexi\\Desktop\\GITS\\Semester-project\\Data\\apollo_swissRouteChoiceData.csv\")\n",
    "df.columns"
   ]
  },
  {
   "cell_type": "code",
   "execution_count": 11,
   "metadata": {},
   "outputs": [],
   "source": [
    "#fill nAn values with 0 (same as in Apollo)\n",
    "df = df.fillna(0) \n",
    "\n",
    "#creating biogeme database\n",
    "\n",
    "database_MMNL = db.Database('MMNL_Preference_Model', df)\n",
    "globals().update(database_MMNL.variables) #transform all columns into variables"
   ]
  },
  {
   "cell_type": "markdown",
   "metadata": {},
   "source": [
    "Defining the model parameters"
   ]
  },
  {
   "cell_type": "code",
   "execution_count": 12,
   "metadata": {},
   "outputs": [],
   "source": [
    "mu_log_b_tt = Beta('mu_log_b_tt', -3, None, None, 0)\n",
    "sigma_log_b_tt = Beta('sigma_log_b_tt', -0.01, None, None, 0)\n",
    "mu_log_b_tc = Beta('mu_log_b_tc', -3, None, None, 0)\n",
    "sigma_log_b_tc = Beta('sigma_log_b_tc', -0.01, None, None, 0)\n",
    "mu_log_b_hw = Beta('mu_log_b_hw', -3, None, None, 0)\n",
    "sigma_log_b_hw = Beta('sigma_log_b_hw', -0.01, None, None, 0)\n",
    "mu_log_b_ch = Beta('mu_log_b_tt', -3, None, None, 0)\n",
    "sigma_log_b_ch = Beta('sigma_log_b_ch', -0.01, None, None, 0)\n",
    "\n",
    "#no fixed parameters\n",
    "\n"
   ]
  },
  {
   "cell_type": "markdown",
   "metadata": {},
   "source": [
    "Generate draws from Random Distribution (Halton Draws)"
   ]
  },
  {
   "cell_type": "code",
   "execution_count": 13,
   "metadata": {},
   "outputs": [],
   "source": [
    "b_tt = -exp(mu_log_b_tt + sigma_log_b_tt*bioDraws('b_tt', 'NORMAL_HALTON5'))\n",
    "b_tc = -exp(mu_log_b_tc + sigma_log_b_tc*bioDraws('b_tc', 'NORMAL_HALTON5'))\n",
    "b_hw = -exp(mu_log_b_hw + sigma_log_b_hw*bioDraws('b_hw', 'NORMAL_HALTON5'))\n",
    "b_ch = -exp(mu_log_b_ch + sigma_log_b_ch*bioDraws('b_ch', 'NORMAL_HALTON5'))\n",
    "\n"
   ]
  },
  {
   "cell_type": "markdown",
   "metadata": {},
   "source": [
    "Defining the Model"
   ]
  },
  {
   "cell_type": "code",
   "execution_count": 14,
   "metadata": {},
   "outputs": [],
   "source": [
    "#Availabilities not provided for 'apollo_choiceAnalysis', so full availability is assumed.\n",
    "\n",
    "V_1 = b_tt * tt1 + b_tc * tc1 + b_hw * hw1 + b_ch * ch1\n",
    "V_2 = b_tt * tt2 + b_tc * tc2 + b_hw * hw2 + b_ch * ch2\n",
    "\n",
    "\n",
    "V_MMNL = {1: V_1, 2: V_2}\n"
   ]
  },
  {
   "cell_type": "markdown",
   "metadata": {},
   "source": [
    "Estimating the model"
   ]
  },
  {
   "cell_type": "code",
   "execution_count": 15,
   "metadata": {},
   "outputs": [
    {
     "name": "stderr",
     "output_type": "stream",
     "text": [
      "File few_draws.toml has been created\n",
      "Obsolete syntax. Use generate_html instead of generateHtml\n",
      "Obsolete syntax. Use generate_pickle instead of generatePickle\n"
     ]
    },
    {
     "name": "stdout",
     "output_type": "stream",
     "text": [
      "                   Value  Rob. Std err  Rob. t-test  Rob. p-value\n",
      "mu_log_b_hw    -1.687205      0.238339    -7.079013  1.451950e-12\n",
      "mu_log_b_tc     0.296600      0.251117     1.181121  2.375545e-01\n",
      "mu_log_b_tt    -0.622556      0.254752    -2.443771  1.453464e-02\n",
      "sigma_log_b_ch -5.541070      0.310897   -17.822876  0.000000e+00\n",
      "sigma_log_b_hw -2.152781      0.315931    -6.814096  9.485968e-12\n",
      "sigma_log_b_tc -3.781815      0.313130   -12.077470  0.000000e+00\n",
      "sigma_log_b_tt -1.354288      0.277317    -4.883531  1.042027e-06\n",
      "Elapsed Time: 2754.447288274765 seconds\n"
     ]
    }
   ],
   "source": [
    "# Define the model\n",
    "prob_MMNL = models.logit(V_MMNL, None, choice)\n",
    "logprob_MMNL = log(MonteCarlo(prob_MMNL))\n",
    "\n",
    "USER_NOTES = (\n",
    "    'Example of a mixture of logit models with two alternatives, '\n",
    "    'approximated using Monte-Carlo integration with Halton draws.'\n",
    ")\n",
    "\n",
    "\n",
    "#**call cpu/ram function**\n",
    "\n",
    "# Estimate the model\n",
    "the_biogeme_MMNL = bio.BIOGEME(\n",
    "    database_MMNL, logprob_MMNL, userNotes=USER_NOTES, parameter_file='few_draws.toml'\n",
    ")\n",
    "\n",
    "the_biogeme_MMNL.modelName = 'b24halton_mixture'\n",
    "\n",
    "the_biogeme_MMNL.generateHtml = True  # Disable HTML file generation\n",
    "the_biogeme_MMNL.generatePickle = False  # Disable PICKLE file generation\n",
    "the_biogeme_MMNL.save_iterations = False  # Disable ITER file \n",
    "\n",
    "start_time = time.time() #mesure time of estimation\n",
    "\n",
    "results_MMNL = the_biogeme_MMNL.estimate()\n",
    "\n",
    "end_time = time.time()\n",
    "elapsed_time = end_time - start_time\n",
    "\n",
    "# Output + time taken\n",
    "print(results_MMNL.getEstimatedParameters())\n",
    "\n",
    "print(f\"Elapsed Time: {elapsed_time} seconds\")"
   ]
  },
  {
   "cell_type": "code",
   "execution_count": 17,
   "metadata": {},
   "outputs": [
    {
     "name": "stdout",
     "output_type": "stream",
     "text": [
      "Number of estimated parameters:\t7\n",
      "Sample size:\t3492\n",
      "Excluded observations:\t0\n",
      "Init log likelihood:\t-2253.898\n",
      "Final log likelihood:\t-1786.633\n",
      "Likelihood ratio test for the init. model:\t934.5287\n",
      "Rho-square for the init. model:\t0.207\n",
      "Rho-square-bar for the init. model:\t0.204\n",
      "Akaike Information Criterion:\t3587.266\n",
      "Bayesian Information Criterion:\t3630.374\n",
      "Final gradient norm:\t5.0587E+01\n",
      "Number of draws:\t500\n",
      "Draws generation time:\t0:00:07.138568\n",
      "Types of draws:\t['b_ch: NORMAL_HALTON5', 'b_hw: NORMAL_HALTON5', 'b_tc: NORMAL_HALTON5', 'b_tt: NORMAL_HALTON5']\n",
      "Nbr of threads:\t8\n",
      "\n"
     ]
    }
   ],
   "source": [
    "# Retrieve the general statistics from the results\n",
    "general_stats_model_MMNL = results_MMNL.getGeneralStatistics()\n",
    "print(results_MMNL.printGeneralStatistics())"
   ]
  }
 ],
 "metadata": {
  "kernelspec": {
   "display_name": "biogeme",
   "language": "python",
   "name": "python3"
  },
  "language_info": {
   "codemirror_mode": {
    "name": "ipython",
    "version": 3
   },
   "file_extension": ".py",
   "mimetype": "text/x-python",
   "name": "python",
   "nbconvert_exporter": "python",
   "pygments_lexer": "ipython3",
   "version": "3.8.18"
  }
 },
 "nbformat": 4,
 "nbformat_minor": 2
}
