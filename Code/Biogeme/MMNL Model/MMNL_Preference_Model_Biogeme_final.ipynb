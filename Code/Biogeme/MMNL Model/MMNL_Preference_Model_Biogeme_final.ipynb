{
 "cells": [
  {
   "cell_type": "code",
   "execution_count": 1,
   "metadata": {},
   "outputs": [],
   "source": [
    "import pandas as pd\n",
    "import numpy as np\n",
    "import pandas as pd\n",
    "import biogeme.database as db\n",
    "import biogeme.biogeme as bio\n",
    "from biogeme import models, tools\n",
    "from biogeme.expressions import Beta, Variable, bioDraws, MonteCarlo, log, Power, exp, Derive, RandomVariable, PanelLikelihoodTrajectory\n",
    "import biogeme.distributions as dist\n",
    "import scipy.stats as st\n",
    "import time\n",
    "import psutil"
   ]
  },
  {
   "cell_type": "markdown",
   "metadata": {},
   "source": [
    "Defining CPU and RAM monitoring function"
   ]
  },
  {
   "cell_type": "code",
   "execution_count": 2,
   "metadata": {},
   "outputs": [],
   "source": [
    "def monitor_system(duration_minute):\n",
    "    duration = duration_minute*60 #transforming the argument so it's in minutes instead of seconds\n",
    "    data = {'Time': [], 'CPU Usage (%)': [], 'RAM Usage (%)': []}\n",
    "    start_time = time.time()\n",
    "\n",
    "    while time.time() - start_time < duration:\n",
    "        elapsed_time = time.time() - start_time\n",
    "        cpu_percent = psutil.cpu_percent(interval=None)\n",
    "        ram_info = psutil.virtual_memory()\n",
    "\n",
    "        data['Time'].append(elapsed_time)\n",
    "        data['CPU Usage (%)'].append(cpu_percent)\n",
    "        data['RAM Usage (%)'].append(ram_info.percent)\n",
    "\n",
    "        time.sleep(60) #mesure the CPU + RAM every minute\n",
    "\n",
    "    df_monitor = pd.DataFrame(data)\n",
    "    return df_monitor"
   ]
  },
  {
   "cell_type": "markdown",
   "metadata": {},
   "source": [
    "Data description"
   ]
  },
  {
   "cell_type": "markdown",
   "metadata": {},
   "source": [
    "The dataset `apollo_swissRouteChoiceData` comes from an actual SP survey of public transport route choice conducted in\n",
    "Switzerland (Axhausen et al., 2008). A set of 388 people were faced with 9 choices each between two public transport routes, both using train (leading to 3'492 observations in the data). The two alternatives are described on the basis of travel time, travel cost, headway (time between subsequent trains/busses) and the number of interchanges. For each individual, the dataset\n",
    "additionally contains information on income, car availability in the household, and whether the\n",
    "journey was made for commuting, shopping, business or leisure.\n",
    "\n",
    "See slide 79 Apollo Documentation for more info on Mixtures"
   ]
  },
  {
   "cell_type": "markdown",
   "metadata": {},
   "source": [
    "Preparing the data"
   ]
  },
  {
   "cell_type": "code",
   "execution_count": 3,
   "metadata": {},
   "outputs": [
    {
     "data": {
      "text/plain": [
       "Index(['ID', 'choice', 'tt1', 'tc1', 'hw1', 'ch1', 'tt2', 'tc2', 'hw2', 'ch2',\n",
       "       'hh_inc_abs', 'car_availability', 'commute', 'shopping', 'business',\n",
       "       'leisure'],\n",
       "      dtype='object')"
      ]
     },
     "execution_count": 3,
     "metadata": {},
     "output_type": "execute_result"
    }
   ],
   "source": [
    "# Read the CSV file\n",
    "df = pd.read_csv(r\"C:\\Users\\alexi\\Desktop\\GITS\\Semester-project\\Data\\apollo_swissRouteChoiceData.csv\")\n",
    "df.columns"
   ]
  },
  {
   "cell_type": "code",
   "execution_count": 4,
   "metadata": {},
   "outputs": [],
   "source": [
    "#fill nAn values with 0 (same as in Apollo)\n",
    "df = df.fillna(0) \n",
    "\n",
    "#creating biogeme database\n",
    "\n",
    "database_MMNL = db.Database('MMNL_Preference_Model', df)\n",
    "globals().update(database_MMNL.variables) #transform all columns into variables\n",
    "\n",
    "database_MMNL.panel('ID') #want to create a panel data later, we thus need to cleary identify the individuals in the columns"
   ]
  },
  {
   "cell_type": "markdown",
   "metadata": {},
   "source": [
    "Defining the model parameters"
   ]
  },
  {
   "cell_type": "code",
   "execution_count": 5,
   "metadata": {},
   "outputs": [],
   "source": [
    "#We're changing the starting parameters with the values found with Apollo, and also adding a constant to V_1 in\n",
    "#order to make sure all mu's and sigma's are estimated\n",
    "\n",
    "mu_log_b_tt = Beta('mu_log_b_tt', -1.984, None, None, 0)\n",
    "sigma_log_b_tt = Beta('sigma_log_b_tt', -0.442, None, None, 0)\n",
    "mu_log_b_tc = Beta('mu_log_b_tc', -1.016, None, None, 0)\n",
    "sigma_log_b_tc = Beta('sigma_log_b_tc', -0.991, None, None, 0)\n",
    "mu_log_b_hw = Beta('mu_log_b_hw', -2.938, None, None, 0)\n",
    "sigma_log_b_hw = Beta('sigma_log_b_hw', -0.834, None, None, 0)\n",
    "mu_log_b_ch = Beta('mu_log_b_ch', -0.631, None, None, 0)\n",
    "sigma_log_b_ch = Beta('sigma_log_b_ch', 0.858, None, None, 0)\n",
    "\n",
    "#no fixed parameters\n",
    "\n"
   ]
  },
  {
   "cell_type": "markdown",
   "metadata": {},
   "source": [
    "Generate draws from Random Distribution (Halton Draws)"
   ]
  },
  {
   "cell_type": "code",
   "execution_count": 6,
   "metadata": {},
   "outputs": [],
   "source": [
    "b_tt = -exp(mu_log_b_tt + sigma_log_b_tt*bioDraws('b_tt', 'NORMAL_HALTON5'))\n",
    "b_tc = -exp(mu_log_b_tc + sigma_log_b_tc*bioDraws('b_tc', 'NORMAL_HALTON5'))\n",
    "b_hw = -exp(mu_log_b_hw + sigma_log_b_hw*bioDraws('b_hw', 'NORMAL_HALTON5'))\n",
    "b_ch = -exp(mu_log_b_ch + sigma_log_b_ch*bioDraws('b_ch', 'NORMAL_HALTON5'))\n",
    "\n"
   ]
  },
  {
   "cell_type": "markdown",
   "metadata": {},
   "source": [
    "Defining the Model"
   ]
  },
  {
   "cell_type": "code",
   "execution_count": 7,
   "metadata": {},
   "outputs": [],
   "source": [
    "#Availabilities not provided for 'apollo_choiceAnalysis', so full availability is assumed.\n",
    "#We're adding an asc in order to have all other parameters estimated\n",
    "\n",
    "V_1 = b_tt * tt1 + b_tc * tc1 + b_hw * hw1 + b_ch * ch1\n",
    "V_2 = b_tt * tt2 + b_tc * tc2 + b_hw * hw2 + b_ch * ch2\n",
    "\n",
    "\n",
    "V_MMNL_1 = {1: V_1, 2: V_2}\n"
   ]
  },
  {
   "cell_type": "markdown",
   "metadata": {},
   "source": [
    "Estimating the model"
   ]
  },
  {
   "cell_type": "code",
   "execution_count": 8,
   "metadata": {},
   "outputs": [
    {
     "name": "stderr",
     "output_type": "stream",
     "text": [
      "Obsolete syntax. Use generate_html instead of generateHtml\n",
      "Obsolete syntax. Use generate_pickle instead of generatePickle\n"
     ]
    }
   ],
   "source": [
    "# Define the model\n",
    "prob_MMNL_1 = models.logit(V_MMNL_1, None, choice)\n",
    "\n",
    "condprodIndiv = PanelLikelihoodTrajectory(prob_MMNL_1) #will use panel data in this case\n",
    "\n",
    "logprob_MMNL_1 = log(MonteCarlo(condprodIndiv))\n",
    "\n",
    "USER_NOTES = (\n",
    "    'Example of a mixture of logit models with two alternatives, '\n",
    "    'approximated using Monte-Carlo integration with Halton draws.'\n",
    ")\n",
    "\n",
    "\n",
    "# Estimate the model\n",
    "the_biogeme_MMNL_1 = bio.BIOGEME(\n",
    "    database_MMNL, logprob_MMNL_1, userNotes=USER_NOTES, parameter_file='few_draws.toml'\n",
    ")\n",
    "\n",
    "the_biogeme_MMNL_1.modelName = 'b24halton_mixture'\n",
    "\n",
    "the_biogeme_MMNL_1.generateHtml = True  # Disable HTML file generation\n",
    "the_biogeme_MMNL_1.generatePickle = False  # Disable PICKLE file generation\n",
    "the_biogeme_MMNL_1.save_iterations = False  # Disable ITER file \n",
    "\n",
    "start_time = time.time() #mesure time of estimation\n",
    "\n",
    "results_MMNL_1 = the_biogeme_MMNL_1.estimate()\n",
    "\n",
    "end_time = time.time()\n",
    "elapsed_time = end_time - start_time\n",
    "elapsed_time_minute = elapsed_time/60\n",
    "\n",
    "# Output + time taken\n",
    "print(results_MMNL_1.getEstimatedParameters())\n",
    "\n",
    "print(f\"Elapsed Time: {elapsed_time_minute} minutes\")"
   ]
  },
  {
   "cell_type": "code",
   "execution_count": null,
   "metadata": {},
   "outputs": [
    {
     "name": "stdout",
     "output_type": "stream",
     "text": [
      "Number of estimated parameters:\t8\n",
      "Sample size:\t388\n",
      "Observations:\t3492\n",
      "Excluded observations:\t0\n",
      "Init log likelihood:\t-1722.237\n",
      "Final log likelihood:\t-1568.246\n",
      "Likelihood ratio test for the init. model:\t307.9821\n",
      "Rho-square for the init. model:\t0.0894\n",
      "Rho-square-bar for the init. model:\t0.0848\n",
      "Akaike Information Criterion:\t3152.493\n",
      "Bayesian Information Criterion:\t3184.181\n",
      "Final gradient norm:\t1.2624E-03\n",
      "Number of draws:\t10\n",
      "Draws generation time:\t0:00:00.015624\n",
      "Types of draws:\t['b_ch: NORMAL_HALTON5', 'b_hw: NORMAL_HALTON5', 'b_tc: NORMAL_HALTON5', 'b_tt: NORMAL_HALTON5']\n",
      "Nbr of threads:\t8\n",
      "\n"
     ]
    }
   ],
   "source": [
    "# Retrieve the general statistics from the results\n",
    "general_stats_model_MMNL_1 = results_MMNL_1.getGeneralStatistics()\n",
    "print(results_MMNL_1.printGeneralStatistics())"
   ]
  }
 ],
 "metadata": {
  "kernelspec": {
   "display_name": "biogeme",
   "language": "python",
   "name": "python3"
  },
  "language_info": {
   "codemirror_mode": {
    "name": "ipython",
    "version": 3
   },
   "file_extension": ".py",
   "mimetype": "text/x-python",
   "name": "python",
   "nbconvert_exporter": "python",
   "pygments_lexer": "ipython3",
   "version": "3.8.18"
  }
 },
 "nbformat": 4,
 "nbformat_minor": 2
}
