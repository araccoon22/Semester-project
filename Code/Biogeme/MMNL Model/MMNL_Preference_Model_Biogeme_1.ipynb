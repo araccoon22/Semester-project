{
 "cells": [
  {
   "cell_type": "code",
   "execution_count": 1,
   "metadata": {},
   "outputs": [],
   "source": [
    "import pandas as pd\n",
    "import numpy as np\n",
    "import pandas as pd\n",
    "import biogeme.database as db\n",
    "import biogeme.biogeme as bio\n",
    "from biogeme import models, tools\n",
    "from biogeme.expressions import Beta, Variable, bioDraws, MonteCarlo, log, Power, exp, Derive, RandomVariable\n",
    "import biogeme.distributions as dist\n",
    "import scipy.stats as st\n",
    "import time\n",
    "import psutil"
   ]
  },
  {
   "cell_type": "markdown",
   "metadata": {},
   "source": [
    "Defining CPU and RAM monitoring function"
   ]
  },
  {
   "cell_type": "code",
   "execution_count": 2,
   "metadata": {},
   "outputs": [],
   "source": [
    "def monitor_system(duration_minute):\n",
    "    duration = duration_minute*60 #transforming the argument so it's in minutes instead of seconds\n",
    "    data = {'Time': [], 'CPU Usage (%)': [], 'RAM Usage (%)': []}\n",
    "    start_time = time.time()\n",
    "\n",
    "    while time.time() - start_time < duration:\n",
    "        elapsed_time = time.time() - start_time\n",
    "        cpu_percent = psutil.cpu_percent(interval=None)\n",
    "        ram_info = psutil.virtual_memory()\n",
    "\n",
    "        data['Time'].append(elapsed_time)\n",
    "        data['CPU Usage (%)'].append(cpu_percent)\n",
    "        data['RAM Usage (%)'].append(ram_info.percent)\n",
    "\n",
    "        time.sleep(60) #mesure the CPU + RAM every minute\n",
    "\n",
    "    df_monitor = pd.DataFrame(data)\n",
    "    return df_monitor"
   ]
  },
  {
   "cell_type": "markdown",
   "metadata": {},
   "source": [
    "Data description"
   ]
  },
  {
   "cell_type": "markdown",
   "metadata": {},
   "source": [
    "The dataset `apollo_swissRouteChoiceData` comes from an actual SP survey of public transport route choice conducted in\n",
    "Switzerland (Axhausen et al., 2008). A set of 388 people were faced with 9 choices each between two public transport routes, both using train (leading to 3'492 observations in the data). The two alternatives are described on the basis of travel time, travel cost, headway (time between subsequent trains/busses) and the number of interchanges. For each individual, the dataset\n",
    "additionally contains information on income, car availability in the household, and whether the\n",
    "journey was made for commuting, shopping, business or leisure.\n",
    "\n",
    "See slide 79 Apollo Documentation for more info on Mixtures"
   ]
  },
  {
   "cell_type": "markdown",
   "metadata": {},
   "source": [
    "Preparing the data"
   ]
  },
  {
   "cell_type": "code",
   "execution_count": 3,
   "metadata": {},
   "outputs": [
    {
     "data": {
      "text/plain": [
       "Index(['ID', 'choice', 'tt1', 'tc1', 'hw1', 'ch1', 'tt2', 'tc2', 'hw2', 'ch2',\n",
       "       'hh_inc_abs', 'car_availability', 'commute', 'shopping', 'business',\n",
       "       'leisure'],\n",
       "      dtype='object')"
      ]
     },
     "execution_count": 3,
     "metadata": {},
     "output_type": "execute_result"
    }
   ],
   "source": [
    "# Read the CSV file\n",
    "df = pd.read_csv(r\"C:\\Users\\alexi\\Desktop\\GITS\\Semester-project\\Data\\apollo_swissRouteChoiceData.csv\")\n",
    "df.columns"
   ]
  },
  {
   "cell_type": "code",
   "execution_count": 4,
   "metadata": {},
   "outputs": [],
   "source": [
    "#fill nAn values with 0 (same as in Apollo)\n",
    "df = df.fillna(0) \n",
    "\n",
    "#creating biogeme database\n",
    "\n",
    "database_MMNL = db.Database('MMNL_Preference_Model', df)\n",
    "globals().update(database_MMNL.variables) #transform all columns into variables"
   ]
  },
  {
   "cell_type": "markdown",
   "metadata": {},
   "source": [
    "Defining the model parameters"
   ]
  },
  {
   "cell_type": "code",
   "execution_count": 5,
   "metadata": {},
   "outputs": [],
   "source": [
    "#We're changing the starting parameters with the values found with Apollo, and also adding a constant to V_1 in\n",
    "#order to make sure all mu's and sigma's are estimated\n",
    "\n",
    "asc = Beta('asc', 0, None, None, 1) #fixed parameter, to 0\n",
    "mu_log_b_tt = Beta('mu_log_b_tt', -1.984, None, None, 0)\n",
    "sigma_log_b_tt = Beta('sigma_log_b_tt', -0.442, None, None, 0)\n",
    "mu_log_b_tc = Beta('mu_log_b_tc', -1.016, None, None, 0)\n",
    "sigma_log_b_tc = Beta('sigma_log_b_tc', -0.991, None, None, 0)\n",
    "mu_log_b_hw = Beta('mu_log_b_hw', -2.938, None, None, 0)\n",
    "sigma_log_b_hw = Beta('sigma_log_b_hw', -0.834, None, None, 0)\n",
    "mu_log_b_ch = Beta('mu_log_b_tt', -0.631, None, None, 0)\n",
    "sigma_log_b_ch = Beta('sigma_log_b_ch', 0.858, None, None, 0)\n",
    "\n",
    "#no fixed parameters\n",
    "\n"
   ]
  },
  {
   "cell_type": "markdown",
   "metadata": {},
   "source": [
    "Generate draws from Random Distribution (Halton Draws)"
   ]
  },
  {
   "cell_type": "code",
   "execution_count": 6,
   "metadata": {},
   "outputs": [],
   "source": [
    "b_tt = -exp(mu_log_b_tt + sigma_log_b_tt*bioDraws('b_tt', 'NORMAL_HALTON5'))\n",
    "b_tc = -exp(mu_log_b_tc + sigma_log_b_tc*bioDraws('b_tc', 'NORMAL_HALTON5'))\n",
    "b_hw = -exp(mu_log_b_hw + sigma_log_b_hw*bioDraws('b_hw', 'NORMAL_HALTON5'))\n",
    "b_ch = -exp(mu_log_b_ch + sigma_log_b_ch*bioDraws('b_ch', 'NORMAL_HALTON5'))\n",
    "\n"
   ]
  },
  {
   "cell_type": "markdown",
   "metadata": {},
   "source": [
    "Defining the Model"
   ]
  },
  {
   "cell_type": "code",
   "execution_count": 7,
   "metadata": {},
   "outputs": [],
   "source": [
    "#Availabilities not provided for 'apollo_choiceAnalysis', so full availability is assumed.\n",
    "#We're adding an asc in order to have all other parameters estimated\n",
    "\n",
    "V_1 = asc + b_tt * tt1 + b_tc * tc1 + b_hw * hw1 + b_ch * ch1\n",
    "V_2 = b_tt * tt2 + b_tc * tc2 + b_hw * hw2 + b_ch * ch2\n",
    "\n",
    "\n",
    "V_MMNL_1 = {1: V_1, 2: V_2}\n"
   ]
  },
  {
   "cell_type": "markdown",
   "metadata": {},
   "source": [
    "Estimating the model"
   ]
  },
  {
   "cell_type": "code",
   "execution_count": 8,
   "metadata": {},
   "outputs": [
    {
     "name": "stderr",
     "output_type": "stream",
     "text": [
      "Obsolete syntax. Use generate_html instead of generateHtml\n",
      "Obsolete syntax. Use generate_pickle instead of generatePickle\n"
     ]
    },
    {
     "ename": "KeyboardInterrupt",
     "evalue": "",
     "output_type": "error",
     "traceback": [
      "\u001b[1;31m---------------------------------------------------------------------------\u001b[0m",
      "\u001b[1;31mKeyboardInterrupt\u001b[0m                         Traceback (most recent call last)",
      "Cell \u001b[1;32mIn[8], line 26\u001b[0m\n\u001b[0;32m     22\u001b[0m the_biogeme_MMNL_1\u001b[38;5;241m.\u001b[39msave_iterations \u001b[38;5;241m=\u001b[39m \u001b[38;5;28;01mFalse\u001b[39;00m  \u001b[38;5;66;03m# Disable ITER file \u001b[39;00m\n\u001b[0;32m     24\u001b[0m start_time \u001b[38;5;241m=\u001b[39m time\u001b[38;5;241m.\u001b[39mtime() \u001b[38;5;66;03m#mesure time of estimation\u001b[39;00m\n\u001b[1;32m---> 26\u001b[0m results_MMNL_1 \u001b[38;5;241m=\u001b[39m \u001b[43mthe_biogeme_MMNL_1\u001b[49m\u001b[38;5;241;43m.\u001b[39;49m\u001b[43mestimate\u001b[49m\u001b[43m(\u001b[49m\u001b[43m)\u001b[49m\n\u001b[0;32m     28\u001b[0m end_time \u001b[38;5;241m=\u001b[39m time\u001b[38;5;241m.\u001b[39mtime()\n\u001b[0;32m     29\u001b[0m elapsed_time \u001b[38;5;241m=\u001b[39m end_time \u001b[38;5;241m-\u001b[39m start_time\n",
      "File \u001b[1;32mc:\\Users\\alexi\\anaconda3\\envs\\biogeme\\lib\\site-packages\\biogeme\\biogeme.py:1456\u001b[0m, in \u001b[0;36mBIOGEME.estimate\u001b[1;34m(self, recycle, run_bootstrap, **kwargs)\u001b[0m\n\u001b[0;32m   1451\u001b[0m start_time \u001b[38;5;241m=\u001b[39m datetime\u001b[38;5;241m.\u001b[39mnow()\n\u001b[0;32m   1452\u001b[0m \u001b[38;5;66;03m#        yep.start('profile.out')\u001b[39;00m\n\u001b[0;32m   1453\u001b[0m \n\u001b[0;32m   1454\u001b[0m \u001b[38;5;66;03m#        yep.stop()\u001b[39;00m\n\u001b[1;32m-> 1456\u001b[0m output \u001b[38;5;241m=\u001b[39m \u001b[38;5;28;43mself\u001b[39;49m\u001b[38;5;241;43m.\u001b[39;49m\u001b[43moptimize\u001b[49m\u001b[43m(\u001b[49m\u001b[43mnp\u001b[49m\u001b[38;5;241;43m.\u001b[39;49m\u001b[43marray\u001b[49m\u001b[43m(\u001b[49m\u001b[38;5;28;43mself\u001b[39;49m\u001b[38;5;241;43m.\u001b[39;49m\u001b[43mid_manager\u001b[49m\u001b[38;5;241;43m.\u001b[39;49m\u001b[43mfree_betas_values\u001b[49m\u001b[43m)\u001b[49m\u001b[43m)\u001b[49m\n\u001b[0;32m   1457\u001b[0m xstar, optimizationMessages \u001b[38;5;241m=\u001b[39m output\n\u001b[0;32m   1458\u001b[0m \u001b[38;5;66;03m# Running time of the optimization algorithm\u001b[39;00m\n",
      "File \u001b[1;32mc:\\Users\\alexi\\anaconda3\\envs\\biogeme\\lib\\site-packages\\biogeme\\biogeme.py:1710\u001b[0m, in \u001b[0;36mBIOGEME.optimize\u001b[1;34m(self, starting_values)\u001b[0m\n\u001b[0;32m   1703\u001b[0m \u001b[38;5;66;03m# logger.debug(''.join(traceback.format_stack()))\u001b[39;00m\n\u001b[0;32m   1704\u001b[0m variable_names \u001b[38;5;241m=\u001b[39m (\n\u001b[0;32m   1705\u001b[0m     \u001b[38;5;28mself\u001b[39m\u001b[38;5;241m.\u001b[39mfree_beta_names()\n\u001b[0;32m   1706\u001b[0m     \u001b[38;5;28;01mif\u001b[39;00m \u001b[38;5;28mlen\u001b[39m(starting_values) \u001b[38;5;241m<\u001b[39m\u001b[38;5;241m=\u001b[39m \u001b[38;5;28mself\u001b[39m\u001b[38;5;241m.\u001b[39mmax_number_parameters_to_report\n\u001b[0;32m   1707\u001b[0m     \u001b[38;5;28;01melse\u001b[39;00m \u001b[38;5;28;01mNone\u001b[39;00m\n\u001b[0;32m   1708\u001b[0m )\n\u001b[1;32m-> 1710\u001b[0m results \u001b[38;5;241m=\u001b[39m \u001b[38;5;28;43mself\u001b[39;49m\u001b[38;5;241;43m.\u001b[39;49m\u001b[43m_algorithm\u001b[49m\u001b[43m(\u001b[49m\n\u001b[0;32m   1711\u001b[0m \u001b[43m    \u001b[49m\u001b[43mfct\u001b[49m\u001b[38;5;241;43m=\u001b[39;49m\u001b[43mthe_function\u001b[49m\u001b[43m,\u001b[49m\n\u001b[0;32m   1712\u001b[0m \u001b[43m    \u001b[49m\u001b[43minitBetas\u001b[49m\u001b[38;5;241;43m=\u001b[39;49m\u001b[43mstarting_values\u001b[49m\u001b[43m,\u001b[49m\n\u001b[0;32m   1713\u001b[0m \u001b[43m    \u001b[49m\u001b[43mbounds\u001b[49m\u001b[38;5;241;43m=\u001b[39;49m\u001b[38;5;28;43mself\u001b[39;49m\u001b[38;5;241;43m.\u001b[39;49m\u001b[43mid_manager\u001b[49m\u001b[38;5;241;43m.\u001b[39;49m\u001b[43mbounds\u001b[49m\u001b[43m,\u001b[49m\n\u001b[0;32m   1714\u001b[0m \u001b[43m    \u001b[49m\u001b[43mvariable_names\u001b[49m\u001b[38;5;241;43m=\u001b[39;49m\u001b[43mvariable_names\u001b[49m\u001b[43m,\u001b[49m\n\u001b[0;32m   1715\u001b[0m \u001b[43m    \u001b[49m\u001b[43mparameters\u001b[49m\u001b[38;5;241;43m=\u001b[39;49m\u001b[38;5;28;43mself\u001b[39;49m\u001b[38;5;241;43m.\u001b[39;49m\u001b[43malgo_parameters\u001b[49m\u001b[43m,\u001b[49m\n\u001b[0;32m   1716\u001b[0m \u001b[43m\u001b[49m\u001b[43m)\u001b[49m\n\u001b[0;32m   1718\u001b[0m \u001b[38;5;28;01mreturn\u001b[39;00m results\n",
      "File \u001b[1;32mc:\\Users\\alexi\\anaconda3\\envs\\biogeme\\lib\\site-packages\\biogeme\\optimization.py:497\u001b[0m, in \u001b[0;36msimple_bounds_newton_algorithm_for_biogeme\u001b[1;34m(fct, initBetas, bounds, variable_names, parameters)\u001b[0m\n\u001b[0;32m    491\u001b[0m \u001b[38;5;28;01melse\u001b[39;00m:\n\u001b[0;32m    492\u001b[0m     logger\u001b[38;5;241m.\u001b[39minfo(\n\u001b[0;32m    493\u001b[0m         \u001b[38;5;124mf\u001b[39m\u001b[38;5;124m'\u001b[39m\u001b[38;5;124m** Optimization: Hybrid Newton \u001b[39m\u001b[38;5;124m'\u001b[39m\n\u001b[0;32m    494\u001b[0m         \u001b[38;5;124mf\u001b[39m\u001b[38;5;124m'\u001b[39m\u001b[38;5;132;01m{\u001b[39;00m\u001b[38;5;241m100\u001b[39m\u001b[38;5;241m*\u001b[39mproportionTrueHessian\u001b[38;5;132;01m}\u001b[39;00m\u001b[38;5;124m%/BFGS \u001b[39m\u001b[38;5;124m'\u001b[39m\n\u001b[0;32m    495\u001b[0m         \u001b[38;5;124mf\u001b[39m\u001b[38;5;124m'\u001b[39m\u001b[38;5;124mwith trust region for simple bounds\u001b[39m\u001b[38;5;124m'\u001b[39m\n\u001b[0;32m    496\u001b[0m     )\n\u001b[1;32m--> 497\u001b[0m \u001b[38;5;28;01mreturn\u001b[39;00m \u001b[43msimple_bounds_newton_algorithm\u001b[49m\u001b[43m(\u001b[49m\n\u001b[0;32m    498\u001b[0m \u001b[43m    \u001b[49m\u001b[43mthe_function\u001b[49m\u001b[38;5;241;43m=\u001b[39;49m\u001b[43mfct\u001b[49m\u001b[43m,\u001b[49m\n\u001b[0;32m    499\u001b[0m \u001b[43m    \u001b[49m\u001b[43mbounds\u001b[49m\u001b[38;5;241;43m=\u001b[39;49m\u001b[43mBounds\u001b[49m\u001b[43m(\u001b[49m\u001b[43mbounds\u001b[49m\u001b[43m)\u001b[49m\u001b[43m,\u001b[49m\n\u001b[0;32m    500\u001b[0m \u001b[43m    \u001b[49m\u001b[43mstarting_point\u001b[49m\u001b[38;5;241;43m=\u001b[39;49m\u001b[43minitBetas\u001b[49m\u001b[43m,\u001b[49m\n\u001b[0;32m    501\u001b[0m \u001b[43m    \u001b[49m\u001b[43mvariable_names\u001b[49m\u001b[38;5;241;43m=\u001b[39;49m\u001b[43mvariable_names\u001b[49m\u001b[43m,\u001b[49m\n\u001b[0;32m    502\u001b[0m \u001b[43m    \u001b[49m\u001b[43mproportion_analytical_hessian\u001b[49m\u001b[38;5;241;43m=\u001b[39;49m\u001b[43mproportionTrueHessian\u001b[49m\u001b[43m,\u001b[49m\n\u001b[0;32m    503\u001b[0m \u001b[43m    \u001b[49m\u001b[43mfirst_radius\u001b[49m\u001b[38;5;241;43m=\u001b[39;49m\u001b[43mradius\u001b[49m\u001b[43m,\u001b[49m\n\u001b[0;32m    504\u001b[0m \u001b[43m    \u001b[49m\u001b[43mcgtol\u001b[49m\u001b[38;5;241;43m=\u001b[39;49m\u001b[43mcgtol\u001b[49m\u001b[43m,\u001b[49m\n\u001b[0;32m    505\u001b[0m \u001b[43m    \u001b[49m\u001b[43mmaxiter\u001b[49m\u001b[38;5;241;43m=\u001b[39;49m\u001b[43mmaxiter\u001b[49m\u001b[43m,\u001b[49m\n\u001b[0;32m    506\u001b[0m \u001b[43m    \u001b[49m\u001b[43meta1\u001b[49m\u001b[38;5;241;43m=\u001b[39;49m\u001b[43meta1\u001b[49m\u001b[43m,\u001b[49m\n\u001b[0;32m    507\u001b[0m \u001b[43m    \u001b[49m\u001b[43meta2\u001b[49m\u001b[38;5;241;43m=\u001b[39;49m\u001b[43meta2\u001b[49m\u001b[43m,\u001b[49m\n\u001b[0;32m    508\u001b[0m \u001b[43m    \u001b[49m\u001b[43menlarging_factor\u001b[49m\u001b[38;5;241;43m=\u001b[39;49m\u001b[43menlargingFactor\u001b[49m\u001b[43m,\u001b[49m\n\u001b[0;32m    509\u001b[0m \u001b[43m\u001b[49m\u001b[43m)\u001b[49m\n",
      "File \u001b[1;32mc:\\Users\\alexi\\anaconda3\\envs\\biogeme\\lib\\site-packages\\biogeme_optimization\\simple_bounds.py:207\u001b[0m, in \u001b[0;36msimple_bounds_newton_algorithm\u001b[1;34m(the_function, bounds, starting_point, variable_names, proportion_analytical_hessian, first_radius, cgtol, maxiter, eta1, eta2, enlarging_factor)\u001b[0m\n\u001b[0;32m    204\u001b[0m     \u001b[38;5;28;01mcontinue\u001b[39;00m\n\u001b[0;32m    206\u001b[0m \u001b[38;5;28;01mtry\u001b[39;00m:\n\u001b[1;32m--> 207\u001b[0m     function_value_candidate \u001b[38;5;241m=\u001b[39m \u001b[43mthe_hybrid_function\u001b[49m\u001b[38;5;241;43m.\u001b[39;49m\u001b[43mcalculate_function\u001b[49m\u001b[43m(\u001b[49m\u001b[43mcandidate\u001b[49m\u001b[43m)\u001b[49m\n\u001b[0;32m    208\u001b[0m     num \u001b[38;5;241m=\u001b[39m current_function\u001b[38;5;241m.\u001b[39mfunction \u001b[38;5;241m-\u001b[39m function_value_candidate\n\u001b[0;32m    209\u001b[0m     step \u001b[38;5;241m=\u001b[39m candidate \u001b[38;5;241m-\u001b[39m iterate\n",
      "File \u001b[1;32mc:\\Users\\alexi\\anaconda3\\envs\\biogeme\\lib\\site-packages\\biogeme_optimization\\hybrid_function.py:74\u001b[0m, in \u001b[0;36mHybridFunction.calculate_function\u001b[1;34m(self, iterate)\u001b[0m\n\u001b[0;32m     68\u001b[0m \u001b[38;5;250m\u001b[39m\u001b[38;5;124;03m\"\"\"Calculates the value of the function\u001b[39;00m\n\u001b[0;32m     69\u001b[0m \n\u001b[0;32m     70\u001b[0m \u001b[38;5;124;03m:param iterate: values\u001b[39;00m\n\u001b[0;32m     71\u001b[0m \u001b[38;5;124;03m:type iterate: numpy.array\u001b[39;00m\n\u001b[0;32m     72\u001b[0m \u001b[38;5;124;03m\"\"\"\u001b[39;00m\n\u001b[0;32m     73\u001b[0m \u001b[38;5;28mself\u001b[39m\u001b[38;5;241m.\u001b[39mthe_function\u001b[38;5;241m.\u001b[39mset_variables(iterate)\n\u001b[1;32m---> 74\u001b[0m \u001b[38;5;28;01mreturn\u001b[39;00m \u001b[38;5;28;43mself\u001b[39;49m\u001b[38;5;241;43m.\u001b[39;49m\u001b[43mthe_function\u001b[49m\u001b[38;5;241;43m.\u001b[39;49m\u001b[43mf\u001b[49m\u001b[43m(\u001b[49m\u001b[43m)\u001b[49m\n",
      "File \u001b[1;32mc:\\Users\\alexi\\anaconda3\\envs\\biogeme\\lib\\site-packages\\biogeme_optimization\\function.py:170\u001b[0m, in \u001b[0;36mFunctionToMinimize.f\u001b[1;34m(self)\u001b[0m\n\u001b[0;32m    168\u001b[0m value \u001b[38;5;241m=\u001b[39m \u001b[38;5;28mself\u001b[39m\u001b[38;5;241m.\u001b[39mstored_values\u001b[38;5;241m.\u001b[39mget(\u001b[38;5;28mself\u001b[39m\u001b[38;5;241m.\u001b[39mx_tuple)\n\u001b[0;32m    169\u001b[0m \u001b[38;5;28;01mif\u001b[39;00m value \u001b[38;5;129;01mis\u001b[39;00m \u001b[38;5;28;01mNone\u001b[39;00m:\n\u001b[1;32m--> 170\u001b[0m     value \u001b[38;5;241m=\u001b[39m \u001b[38;5;28;43mself\u001b[39;49m\u001b[38;5;241;43m.\u001b[39;49m\u001b[43m_f\u001b[49m\u001b[43m(\u001b[49m\u001b[43m)\u001b[49m\n\u001b[0;32m    171\u001b[0m     \u001b[38;5;28mself\u001b[39m\u001b[38;5;241m.\u001b[39mstored_values[\u001b[38;5;28mself\u001b[39m\u001b[38;5;241m.\u001b[39mx_tuple] \u001b[38;5;241m=\u001b[39m value\n\u001b[0;32m    172\u001b[0m \u001b[38;5;28;01mreturn\u001b[39;00m value\n",
      "File \u001b[1;32mc:\\Users\\alexi\\anaconda3\\envs\\biogeme\\lib\\site-packages\\biogeme\\negative_likelihood.py:48\u001b[0m, in \u001b[0;36mNegativeLikelihood._f\u001b[1;34m(self)\u001b[0m\n\u001b[0;32m     45\u001b[0m \u001b[38;5;28;01mif\u001b[39;00m \u001b[38;5;28mself\u001b[39m\u001b[38;5;241m.\u001b[39mx \u001b[38;5;129;01mis\u001b[39;00m \u001b[38;5;28;01mNone\u001b[39;00m:\n\u001b[0;32m     46\u001b[0m     \u001b[38;5;28;01mraise\u001b[39;00m excep\u001b[38;5;241m.\u001b[39mBiogemeError(\u001b[38;5;124m'\u001b[39m\u001b[38;5;124mThe variables must be set first.\u001b[39m\u001b[38;5;124m'\u001b[39m)\n\u001b[1;32m---> 48\u001b[0m \u001b[38;5;28;01mreturn\u001b[39;00m \u001b[38;5;241m-\u001b[39m\u001b[38;5;28;43mself\u001b[39;49m\u001b[38;5;241;43m.\u001b[39;49m\u001b[43mlike\u001b[49m\u001b[43m(\u001b[49m\u001b[38;5;28;43mself\u001b[39;49m\u001b[38;5;241;43m.\u001b[39;49m\u001b[43mx\u001b[49m\u001b[43m,\u001b[49m\u001b[43m \u001b[49m\u001b[43mscaled\u001b[49m\u001b[38;5;241;43m=\u001b[39;49m\u001b[38;5;28;43;01mFalse\u001b[39;49;00m\u001b[43m,\u001b[49m\u001b[43m \u001b[49m\u001b[43mbatch\u001b[49m\u001b[38;5;241;43m=\u001b[39;49m\u001b[38;5;28;43;01mNone\u001b[39;49;00m\u001b[43m)\u001b[49m\n",
      "File \u001b[1;32mc:\\Users\\alexi\\anaconda3\\envs\\biogeme\\lib\\site-packages\\biogeme\\biogeme.py:979\u001b[0m, in \u001b[0;36mBIOGEME.calculateLikelihood\u001b[1;34m(self, x, scaled, batch)\u001b[0m\n\u001b[0;32m    976\u001b[0m \u001b[38;5;28mself\u001b[39m\u001b[38;5;241m.\u001b[39m_prepareDatabaseForFormula()\n\u001b[0;32m    977\u001b[0m f \u001b[38;5;241m=\u001b[39m \u001b[38;5;28mself\u001b[39m\u001b[38;5;241m.\u001b[39mtheC\u001b[38;5;241m.\u001b[39mcalculateLikelihood(x, \u001b[38;5;28mself\u001b[39m\u001b[38;5;241m.\u001b[39mid_manager\u001b[38;5;241m.\u001b[39mfixed_betas_values)\n\u001b[1;32m--> 979\u001b[0m \u001b[43mlogger\u001b[49m\u001b[38;5;241m.\u001b[39mdebug(\u001b[38;5;124mf\u001b[39m\u001b[38;5;124m'\u001b[39m\u001b[38;5;124mLog likelihood (N = \u001b[39m\u001b[38;5;132;01m{\u001b[39;00m\u001b[38;5;28mself\u001b[39m\u001b[38;5;241m.\u001b[39mdatabase\u001b[38;5;241m.\u001b[39mgetSampleSize()\u001b[38;5;132;01m}\u001b[39;00m\u001b[38;5;124m): \u001b[39m\u001b[38;5;132;01m{\u001b[39;00mf\u001b[38;5;132;01m:\u001b[39;00m\u001b[38;5;124m10.7g\u001b[39m\u001b[38;5;132;01m}\u001b[39;00m\u001b[38;5;124m'\u001b[39m)\n\u001b[0;32m    981\u001b[0m \u001b[38;5;28;01mif\u001b[39;00m scaled:\n\u001b[0;32m    982\u001b[0m     \u001b[38;5;28;01mreturn\u001b[39;00m f \u001b[38;5;241m/\u001b[39m \u001b[38;5;28mfloat\u001b[39m(\u001b[38;5;28mself\u001b[39m\u001b[38;5;241m.\u001b[39mdatabase\u001b[38;5;241m.\u001b[39mgetSampleSize())\n",
      "\u001b[1;31mKeyboardInterrupt\u001b[0m: "
     ]
    }
   ],
   "source": [
    "# Define the model\n",
    "prob_MMNL_1 = models.logit(V_MMNL_1, None, choice)\n",
    "logprob_MMNL_1 = log(MonteCarlo(prob_MMNL_1))\n",
    "\n",
    "USER_NOTES = (\n",
    "    'Example of a mixture of logit models with two alternatives, '\n",
    "    'approximated using Monte-Carlo integration with Halton draws.'\n",
    ")\n",
    "\n",
    "\n",
    "# Estimate the model\n",
    "the_biogeme_MMNL_1 = bio.BIOGEME(\n",
    "    database_MMNL, logprob_MMNL_1, userNotes=USER_NOTES, parameter_file='few_draws.toml'\n",
    ")\n",
    "\n",
    "the_biogeme_MMNL_1.modelName = 'b24halton_mixture'\n",
    "\n",
    "the_biogeme_MMNL_1.generateHtml = True  # Disable HTML file generation\n",
    "the_biogeme_MMNL_1.generatePickle = False  # Disable PICKLE file generation\n",
    "the_biogeme_MMNL_1.save_iterations = False  # Disable ITER file \n",
    "\n",
    "start_time = time.time() #mesure time of estimation\n",
    "\n",
    "results_MMNL_1 = the_biogeme_MMNL_1.estimate()\n",
    "\n",
    "end_time = time.time()\n",
    "elapsed_time = end_time - start_time\n",
    "\n",
    "# Output + time taken\n",
    "print(results_MMNL_1.getEstimatedParameters())\n",
    "\n",
    "print(f\"Elapsed Time: {elapsed_time} seconds\")"
   ]
  },
  {
   "cell_type": "code",
   "execution_count": null,
   "metadata": {},
   "outputs": [],
   "source": [
    "# Retrieve the general statistics from the results\n",
    "general_stats_model_MMNL_1 = results_MMNL_1.getGeneralStatistics()\n",
    "print(results_MMNL_1.printGeneralStatistics())"
   ]
  }
 ],
 "metadata": {
  "kernelspec": {
   "display_name": "biogeme",
   "language": "python",
   "name": "python3"
  },
  "language_info": {
   "codemirror_mode": {
    "name": "ipython",
    "version": 3
   },
   "file_extension": ".py",
   "mimetype": "text/x-python",
   "name": "python",
   "nbconvert_exporter": "python",
   "pygments_lexer": "ipython3",
   "version": "3.8.18"
  }
 },
 "nbformat": 4,
 "nbformat_minor": 2
}
